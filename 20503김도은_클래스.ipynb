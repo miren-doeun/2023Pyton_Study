{
  "nbformat": 4,
  "nbformat_minor": 0,
  "metadata": {
    "colab": {
      "provenance": []
    },
    "kernelspec": {
      "name": "python3",
      "display_name": "Python 3"
    },
    "language_info": {
      "name": "python"
    }
  },
  "cells": [
    {
      "cell_type": "code",
      "execution_count": 6,
      "metadata": {
        "id": "nC5rRimW3zEI"
      },
      "outputs": [],
      "source": [
        "class Character:\n",
        "  def hi():\n",
        "    print(\"안녕하세요\")"
      ]
    },
    {
      "cell_type": "code",
      "source": [
        "swordsman=Character()\n",
        "type(swordsman)"
      ],
      "metadata": {
        "colab": {
          "base_uri": "https://localhost:8080/"
        },
        "id": "t8KEHApk4L7i",
        "outputId": "e372a80e-58fb-498e-ff61-f4b4e88d397a"
      },
      "execution_count": 7,
      "outputs": [
        {
          "output_type": "execute_result",
          "data": {
            "text/plain": [
              "__main__.Character"
            ]
          },
          "metadata": {},
          "execution_count": 7
        }
      ]
    },
    {
      "cell_type": "code",
      "source": [
        "fairy=Character()\n",
        "thief=Character()"
      ],
      "metadata": {
        "id": "4f4OTNb84bmo"
      },
      "execution_count": 8,
      "outputs": []
    },
    {
      "cell_type": "code",
      "source": [
        "swordsman.hi( )"
      ],
      "metadata": {
        "colab": {
          "base_uri": "https://localhost:8080/",
          "height": 184
        },
        "id": "MPJhH4N84rrV",
        "outputId": "4f3a6df5-8129-4443-f23d-37378441f14b"
      },
      "execution_count": 11,
      "outputs": [
        {
          "output_type": "error",
          "ename": "TypeError",
          "evalue": "ignored",
          "traceback": [
            "\u001b[0;31m---------------------------------------------------------------------------\u001b[0m",
            "\u001b[0;31mTypeError\u001b[0m                                 Traceback (most recent call last)",
            "\u001b[0;32m<ipython-input-11-fa3811983c69>\u001b[0m in \u001b[0;36m<cell line: 1>\u001b[0;34m()\u001b[0m\n\u001b[0;32m----> 1\u001b[0;31m \u001b[0mswordsman\u001b[0m\u001b[0;34m.\u001b[0m\u001b[0mhi\u001b[0m\u001b[0;34m(\u001b[0m \u001b[0;34m)\u001b[0m\u001b[0;34m\u001b[0m\u001b[0;34m\u001b[0m\u001b[0m\n\u001b[0m",
            "\u001b[0;31mTypeError\u001b[0m: Character.hi() missing 1 required positional argument: 'name'"
          ]
        }
      ]
    },
    {
      "cell_type": "code",
      "source": [
        "class Character:\n",
        "  def hi(self,name):\n",
        "    print(\"안녕! 난 \",name)\n",
        "swordsman=Character()\n",
        "swordsman.hi(\"검술사\")"
      ],
      "metadata": {
        "colab": {
          "base_uri": "https://localhost:8080/"
        },
        "id": "_ikIHdC24tuV",
        "outputId": "e2adc2a7-5716-4fce-feb6-2ad767eea62e"
      },
      "execution_count": 12,
      "outputs": [
        {
          "output_type": "stream",
          "name": "stdout",
          "text": [
            "안녕! 난  검술사\n"
          ]
        }
      ]
    },
    {
      "cell_type": "code",
      "source": [
        "class Character:\n",
        "  def hi(self, name):\n",
        "    print(\"안녕! 난 \",name)\n",
        "  def attack(self, target):\n",
        "    print(target,\"을/를 공격합니다!\")\n",
        "swordsman=Character()\n",
        "swordsman.attack('도적')"
      ],
      "metadata": {
        "colab": {
          "base_uri": "https://localhost:8080/"
        },
        "id": "zmCQtLs15SH2",
        "outputId": "d5ef4c37-87bc-4b65-8d7c-42198c83c6b7"
      },
      "execution_count": 15,
      "outputs": [
        {
          "output_type": "stream",
          "name": "stdout",
          "text": [
            "도적 을/를 공격합니다!\n"
          ]
        }
      ]
    },
    {
      "cell_type": "code",
      "source": [
        "class Character:\n",
        "  def __init__(self,name, hp, ad):\n",
        "    self.name=name\n",
        "    self.strength=hp\n",
        "    self.ad=ad\n",
        "    print('Character 클래스의 객체 생성=>',self.name)"
      ],
      "metadata": {
        "id": "LKUI_0nQ6AJg"
      },
      "execution_count": 22,
      "outputs": []
    },
    {
      "cell_type": "code",
      "source": [
        "swordsman=Character('검술사',100,10)"
      ],
      "metadata": {
        "colab": {
          "base_uri": "https://localhost:8080/"
        },
        "id": "N65cc7vd6rct",
        "outputId": "5e26398b-d3d9-4562-c9dd-c64abd2d4288"
      },
      "execution_count": 23,
      "outputs": [
        {
          "output_type": "stream",
          "name": "stdout",
          "text": [
            "Character 클래스의 객체 생성=> 검술사\n"
          ]
        }
      ]
    },
    {
      "cell_type": "code",
      "source": [
        "class Character:\n",
        "  def __init__(self,name,hp,ad) :\n",
        "    self.name=name\n",
        "    self.strength=hp\n",
        "    self.attack_damage=ad\n",
        "    print('Character 클래스의 객체 생성=>',self.name)\n",
        "  def information(self):\n",
        "    print(\"이름=>\",self.name,\" 체력=>\",self.strength,\" 공격력=>\", self.attack_damage)\n",
        "  def attack(self,target):\n",
        "    print(target,\"을/를 공격합니다!\")"
      ],
      "metadata": {
        "id": "ESCL1yxX6xht"
      },
      "execution_count": 24,
      "outputs": []
    },
    {
      "cell_type": "code",
      "source": [
        "swordsman=Character(\"검술사\",100, 10)\n",
        "swordsman.information()\n",
        "swordsman.strength=120\n",
        "swordsman.attack_damage=15\n",
        "swordsman.information()"
      ],
      "metadata": {
        "colab": {
          "base_uri": "https://localhost:8080/"
        },
        "id": "GLVLlBpw796v",
        "outputId": "3c82f3e6-a83c-4077-a5eb-e43d5553a9c3"
      },
      "execution_count": 62,
      "outputs": [
        {
          "output_type": "stream",
          "name": "stdout",
          "text": [
            "Character 클래스의 객체 생성=> 검술사\n",
            "이름=> 검술사  체력=> 100  공격력=> 10\n",
            "이름=> 검술사  체력=> 120  공격력=> 15\n"
          ]
        }
      ]
    },
    {
      "cell_type": "code",
      "source": [
        "class Character:\n",
        "  def __init__(self, name, hp, ad) :\n",
        "    self.name=name\n",
        "    self.strength=hp\n",
        "    self.attack_damage=ad\n",
        "    print('Character 클래스의 객체 생성=>',self.name)\n",
        "  def information(self):\n",
        "    print(\"이름=>\",self.name,\" 체력=>\",self.strength,\" 공격력=>\", self.attack_damage)\n",
        "  def attack(self,target):\n",
        "    print(self.name,'이/가', target.name,'(', target.strength,')','을/를 공격합니다!')\n",
        "    target.strength=target.strength-self.attack_damage\n",
        "    print(\"공격성공!\", target.name,\"(\",target.strength,\")\")"
      ],
      "metadata": {
        "id": "4cQf-1yD8MtW"
      },
      "execution_count": 38,
      "outputs": []
    },
    {
      "cell_type": "code",
      "source": [
        "swordsman=Character(\"검술사\",100,10)\n",
        "fairy=Character(\"요정\",60,5)\n",
        "thief=Character(\"도적\",85,8)"
      ],
      "metadata": {
        "colab": {
          "base_uri": "https://localhost:8080/"
        },
        "id": "V2zhLsErACm7",
        "outputId": "76032069-0386-4d9b-df7e-a73035f6378e"
      },
      "execution_count": 52,
      "outputs": [
        {
          "output_type": "stream",
          "name": "stdout",
          "text": [
            "Character 클래스의 객체 생성=> 검술사\n",
            "Character 클래스의 객체 생성=> 요정\n",
            "Character 클래스의 객체 생성=> 도적\n"
          ]
        }
      ]
    },
    {
      "cell_type": "code",
      "source": [
        "swordsman.attack(fairy)"
      ],
      "metadata": {
        "colab": {
          "base_uri": "https://localhost:8080/"
        },
        "id": "KLqi36B7Ac8y",
        "outputId": "39eeaace-1074-46b2-d79a-aef8dbe6974f"
      },
      "execution_count": 53,
      "outputs": [
        {
          "output_type": "stream",
          "name": "stdout",
          "text": [
            "검술사 이/가 요정 ( 60 ) 을/를 공격합니다!\n",
            "공격성공! 요정 ( 50 )\n"
          ]
        }
      ]
    },
    {
      "cell_type": "code",
      "source": [
        "thief.attack(swordsman)"
      ],
      "metadata": {
        "colab": {
          "base_uri": "https://localhost:8080/"
        },
        "id": "Kp3fqUXqAoZa",
        "outputId": "6078ee55-21cd-4f20-9c55-872e19ffb337"
      },
      "execution_count": 54,
      "outputs": [
        {
          "output_type": "stream",
          "name": "stdout",
          "text": [
            "도적 이/가 검술사 ( 100 ) 을/를 공격합니다!\n",
            "공격성공! 검술사 ( 92 )\n"
          ]
        }
      ]
    },
    {
      "cell_type": "code",
      "source": [
        "fairy.attack(thief)"
      ],
      "metadata": {
        "colab": {
          "base_uri": "https://localhost:8080/"
        },
        "id": "RKeITrKIA_OC",
        "outputId": "291ae099-7f7a-4a6a-fce9-665c807b9715"
      },
      "execution_count": 55,
      "outputs": [
        {
          "output_type": "stream",
          "name": "stdout",
          "text": [
            "요정 이/가 도적 ( 85 ) 을/를 공격합니다!\n",
            "공격성공! 도적 ( 80 )\n"
          ]
        }
      ]
    },
    {
      "cell_type": "code",
      "source": [
        "class Member:\n",
        "  def __init__(self,n,j):\n",
        "    self.name,self.join_date=n,j\n",
        "    self.purchase_list=[]\n",
        "    self.purchase_amount=0\n",
        "  def information(self):\n",
        "    print('회원 이름:',self.name)\n",
        "    print('가입 날짜:',self.join_date)\n",
        "    print('구매 내역:',self.purchase_list)\n",
        "    print('누적 구매금액:',self.purchase_amount)\n",
        "  def buy(self,product,cnt):\n",
        "    print(self.name, '고객님이',cnt,'개 구매!')\n",
        "    product.stock=product.stock-cnt\n",
        "    self.purchase_list.append(self.name)\n",
        "    self.purchase_amount=product.price*cnt"
      ],
      "metadata": {
        "id": "W1o7ob2QJ8Lp"
      },
      "execution_count": 71,
      "outputs": []
    },
    {
      "cell_type": "code",
      "source": [
        "class Product:\n",
        "  def __init__(self,n,p,s):\n",
        "    self.name,self.price,self.stock=n,p,s\n",
        "  def informaion(self):\n",
        "    print(\"상품 이름:\",self.name)\n",
        "    print(\"상품 가격:\",self.price)\n",
        "    print(\"남은 재고:\",self.stock)"
      ],
      "metadata": {
        "id": "6waBnURVBoC6"
      },
      "execution_count": 72,
      "outputs": []
    },
    {
      "cell_type": "code",
      "source": [
        "socks=Product(\"양말\",1000,10)\n",
        "books=Product(\"책\",17500,15)"
      ],
      "metadata": {
        "id": "STw9KuxBNoKo"
      },
      "execution_count": 73,
      "outputs": []
    },
    {
      "cell_type": "code",
      "source": [
        "socks.informaion()\n",
        "books.informaion()"
      ],
      "metadata": {
        "colab": {
          "base_uri": "https://localhost:8080/"
        },
        "id": "qx_lPjDMOr8T",
        "outputId": "a2548dc9-9975-4a21-cdda-a5f6adbbd052"
      },
      "execution_count": 74,
      "outputs": [
        {
          "output_type": "stream",
          "name": "stdout",
          "text": [
            "상품 이름: 양말\n",
            "상품 가격: 1000\n",
            "남은 재고: 10\n",
            "상품 이름: 책\n",
            "상품 가격: 17500\n",
            "남은 재고: 15\n"
          ]
        }
      ]
    },
    {
      "cell_type": "code",
      "source": [
        "Anna=Member(\"Anna\",20200420)\n",
        "Grace=Member(\"Grace\",20200130)"
      ],
      "metadata": {
        "id": "Zc5TG6sdO6Qz"
      },
      "execution_count": 75,
      "outputs": []
    },
    {
      "cell_type": "code",
      "source": [
        "Anna.information()\n",
        "Grace.information()"
      ],
      "metadata": {
        "colab": {
          "base_uri": "https://localhost:8080/"
        },
        "id": "Uu1QhmfAPUQL",
        "outputId": "bccb2faf-f310-470c-9b98-95b3ef4dce75"
      },
      "execution_count": 76,
      "outputs": [
        {
          "output_type": "stream",
          "name": "stdout",
          "text": [
            "회원 이름: Anna\n",
            "가입 날짜: 20200420\n",
            "구매 내역: []\n",
            "누적 구매금액: 0\n",
            "회원 이름: Grace\n",
            "가입 날짜: 20200130\n",
            "구매 내역: []\n",
            "누적 구매금액: 0\n"
          ]
        }
      ]
    },
    {
      "cell_type": "code",
      "source": [
        "Anna.buy(socks,1)\n",
        "Grace.buy(books,2)"
      ],
      "metadata": {
        "colab": {
          "base_uri": "https://localhost:8080/"
        },
        "id": "TMR6f0BuP3lD",
        "outputId": "4094be5e-efe2-4fcd-948b-8b078f45e7f3"
      },
      "execution_count": 78,
      "outputs": [
        {
          "output_type": "stream",
          "name": "stdout",
          "text": [
            "Anna 고객님이 1 개 구매!\n",
            "Grace 고객님이 2 개 구매!\n"
          ]
        }
      ]
    },
    {
      "cell_type": "code",
      "source": [],
      "metadata": {
        "id": "OCnLZXezQHS0"
      },
      "execution_count": null,
      "outputs": []
    }
  ]
}