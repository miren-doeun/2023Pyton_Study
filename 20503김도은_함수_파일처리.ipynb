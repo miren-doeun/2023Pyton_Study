{
  "nbformat": 4,
  "nbformat_minor": 0,
  "metadata": {
    "colab": {
      "provenance": []
    },
    "kernelspec": {
      "name": "python3",
      "display_name": "Python 3"
    },
    "language_info": {
      "name": "python"
    }
  },
  "cells": [
    {
      "cell_type": "code",
      "execution_count": 1,
      "metadata": {
        "colab": {
          "base_uri": "https://localhost:8080/"
        },
        "id": "Fs183Vsa0PZd",
        "outputId": "64c34e05-36ff-4476-8370-8995c593db83"
      },
      "outputs": [
        {
          "output_type": "stream",
          "name": "stdout",
          "text": [
            "Hello World~!!\n"
          ]
        }
      ],
      "source": [
        "def Hi():\n",
        "  print(\"Hello World~!!\")\n",
        "\n",
        "Hi()\n"
      ]
    },
    {
      "cell_type": "code",
      "source": [
        "def triangle():\n",
        "  for i in range(5):\n",
        "    for j in range (i+1):\n",
        "      print ('*', end='')\n",
        "    print()\n",
        "triangle()"
      ],
      "metadata": {
        "colab": {
          "base_uri": "https://localhost:8080/"
        },
        "id": "AwEsBcQa29ld",
        "outputId": "e26201be-e2a4-4069-d8f0-bb6635245959"
      },
      "execution_count": 6,
      "outputs": [
        {
          "output_type": "stream",
          "name": "stdout",
          "text": [
            "*\n",
            "**\n",
            "***\n",
            "****\n",
            "*****\n"
          ]
        }
      ]
    },
    {
      "cell_type": "code",
      "source": [
        "def name(name):\n",
        "  print(f\"내 이름은 {name}야 만나서 반가와\")\n",
        "\n",
        "name(\"채송화\")\n",
        "name(\"아이유\")"
      ],
      "metadata": {
        "colab": {
          "base_uri": "https://localhost:8080/"
        },
        "id": "Uejujcwj3wyT",
        "outputId": "4c66a395-8563-46e5-ce40-de872205dfc7"
      },
      "execution_count": 7,
      "outputs": [
        {
          "output_type": "stream",
          "name": "stdout",
          "text": [
            "내 이름은 채송화야 만나서 반가와\n",
            "내 이름은 아이유야 만나서 반가와\n"
          ]
        }
      ]
    },
    {
      "cell_type": "code",
      "source": [
        "def even(a):\n",
        "  if a%2==0:\n",
        "    print(\"짝수\")\n",
        "  else:\n",
        "    print(\"홀수\")\n",
        "even(11)"
      ],
      "metadata": {
        "colab": {
          "base_uri": "https://localhost:8080/"
        },
        "id": "ZlY_0-y84TT0",
        "outputId": "72cd1930-3a21-45f4-9896-1f3c30cb2ed9"
      },
      "execution_count": 8,
      "outputs": [
        {
          "output_type": "stream",
          "name": "stdout",
          "text": [
            "홀수\n"
          ]
        }
      ]
    },
    {
      "cell_type": "code",
      "source": [
        "def triangle(n):\n",
        "  for i in range(n):\n",
        "    for j in range(i+1):\n",
        "      print(\"*\",end='')\n",
        "    print()\n",
        "triangle(3)"
      ],
      "metadata": {
        "colab": {
          "base_uri": "https://localhost:8080/"
        },
        "id": "63i6Yubg4ehL",
        "outputId": "c0444572-e808-4303-b92e-1886f08b271f"
      },
      "execution_count": 9,
      "outputs": [
        {
          "output_type": "stream",
          "name": "stdout",
          "text": [
            "*\n",
            "**\n",
            "***\n"
          ]
        }
      ]
    },
    {
      "cell_type": "code",
      "source": [
        "def print_n_times(value,n):\n",
        "  for i in range(n):\n",
        "    print(value)\n",
        "\n",
        "print_n_times(\"안녕하세요\",2)\n",
        "print_n_times(\"반가워요\",3)"
      ],
      "metadata": {
        "colab": {
          "base_uri": "https://localhost:8080/"
        },
        "id": "CJzwwYUs4wVK",
        "outputId": "bbc6390a-963a-4684-bcd4-d40fa3bdf80d"
      },
      "execution_count": 10,
      "outputs": [
        {
          "output_type": "stream",
          "name": "stdout",
          "text": [
            "안녕하세요\n",
            "안녕하세요\n",
            "반가워요\n",
            "반가워요\n",
            "반가워요\n"
          ]
        }
      ]
    },
    {
      "cell_type": "code",
      "source": [
        "def avg(a,b,c):\n",
        "  sum=a+b+c\n",
        "  print(sum/3)\n",
        "avg(3,5,10)"
      ],
      "metadata": {
        "colab": {
          "base_uri": "https://localhost:8080/"
        },
        "id": "fxnk3xyy4-uq",
        "outputId": "8c6b3b71-2389-4537-f5e1-92aee3b19b03"
      },
      "execution_count": 11,
      "outputs": [
        {
          "output_type": "stream",
          "name": "stdout",
          "text": [
            "6.0\n"
          ]
        }
      ]
    },
    {
      "cell_type": "code",
      "source": [
        "import random\n",
        "def dice_n_times(n):\n",
        "  for i in range(n):\n",
        "    k=random.randint(1,6)\n",
        "    print(i+1,\"번째 주사위 굴린 결과:\",k)\n",
        "dice_n_times(6)"
      ],
      "metadata": {
        "colab": {
          "base_uri": "https://localhost:8080/"
        },
        "id": "uCb43KPn5Fva",
        "outputId": "369e8839-72e1-4931-864e-8f0d17131a94"
      },
      "execution_count": 12,
      "outputs": [
        {
          "output_type": "stream",
          "name": "stdout",
          "text": [
            "1 번째 주사위 굴린 결과: 6\n",
            "2 번째 주사위 굴린 결과: 5\n",
            "3 번째 주사위 굴린 결과: 1\n",
            "4 번째 주사위 굴린 결과: 3\n",
            "5 번째 주사위 굴린 결과: 6\n",
            "6 번째 주사위 굴린 결과: 4\n"
          ]
        }
      ]
    },
    {
      "cell_type": "code",
      "source": [
        "def intsum(*ints):\n",
        "  sum=0\n",
        "  for i in ints:\n",
        "    sum+=i\n",
        "  return sum\n",
        "print(intsum(1,2,3,))\n",
        "print(intsum(5,7,9,11,13))\n",
        "print(intsum(8,9,6,2,9,7,5,8))"
      ],
      "metadata": {
        "colab": {
          "base_uri": "https://localhost:8080/"
        },
        "id": "4CFqVxkq5X5y",
        "outputId": "ae266ed2-0971-4b46-f745-58576f5e2530"
      },
      "execution_count": 15,
      "outputs": [
        {
          "output_type": "stream",
          "name": "stdout",
          "text": [
            "6\n",
            "45\n",
            "54\n"
          ]
        }
      ]
    },
    {
      "cell_type": "code",
      "source": [
        "def print_n_times(n, *values):\n",
        "  for i in range(n):\n",
        "    for value in values:\n",
        "      print(value, end='')\n",
        "    print()\n",
        "print_n_times(3,\"안녕하세요\",\"즐거운\",\"파이썬\")"
      ],
      "metadata": {
        "colab": {
          "base_uri": "https://localhost:8080/"
        },
        "id": "bR_CkcMn5rFj",
        "outputId": "d43ac6da-0f26-4355-ef67-efdec2837559"
      },
      "execution_count": 16,
      "outputs": [
        {
          "output_type": "stream",
          "name": "stdout",
          "text": [
            "안녕하세요즐거운파이썬\n",
            "안녕하세요즐거운파이썬\n",
            "안녕하세요즐거운파이썬\n"
          ]
        }
      ]
    },
    {
      "cell_type": "code",
      "source": [
        "def add_mul(choice,*args):\n",
        "  if choice ==\"add\":\n",
        "    result=0\n",
        "    for i in args:\n",
        "      result=result+i\n",
        "\n",
        "  elif choice==\"mul\":\n",
        "    result=1\n",
        "    for i in args:\n",
        "      result=result*i\n",
        "  return result\n",
        "print(add_mul('add',1,2,3,4,5))\n",
        "print(add_mul('mul',1,2,3,4,5))"
      ],
      "metadata": {
        "colab": {
          "base_uri": "https://localhost:8080/"
        },
        "id": "h5XcvoI56J-r",
        "outputId": "c6a62b76-5e45-4be5-f456-cebd8d217877"
      },
      "execution_count": 21,
      "outputs": [
        {
          "output_type": "stream",
          "name": "stdout",
          "text": [
            "15\n",
            "120\n"
          ]
        }
      ]
    },
    {
      "cell_type": "code",
      "source": [
        "def star(a,*args):\n",
        "  for i in args:\n",
        "    for j in range(int(i)):\n",
        "      print(a,end='')\n",
        "    print()\n",
        "star('*',3,5,2)"
      ],
      "metadata": {
        "colab": {
          "base_uri": "https://localhost:8080/"
        },
        "id": "PHA0ib0H6yND",
        "outputId": "a3991139-0401-4361-bffa-ef623931f1ff"
      },
      "execution_count": 22,
      "outputs": [
        {
          "output_type": "stream",
          "name": "stdout",
          "text": [
            "***\n",
            "*****\n",
            "**\n"
          ]
        }
      ]
    },
    {
      "cell_type": "code",
      "source": [
        "def print_n_times(value,n=2):\n",
        "  for i in range(n):\n",
        "    print(value)\n",
        "print_n_times(\"안녕하세요\")\n",
        "print_n_times(\"안녕히 가세요\",3)"
      ],
      "metadata": {
        "colab": {
          "base_uri": "https://localhost:8080/"
        },
        "id": "6JnoJFql7Vgr",
        "outputId": "b76abf56-ef36-4216-8847-adde141d1670"
      },
      "execution_count": 23,
      "outputs": [
        {
          "output_type": "stream",
          "name": "stdout",
          "text": [
            "안녕하세요\n",
            "안녕하세요\n",
            "안녕히 가세요\n",
            "안녕히 가세요\n",
            "안녕히 가세요\n"
          ]
        }
      ]
    },
    {
      "cell_type": "code",
      "source": [
        "def calcstep(begin, end, step=1):\n",
        "  sum=0\n",
        "  for num in range(begin,end+1,step):\n",
        "    sum+=num\n",
        "  print(\"{}부터 {}까지 숫자 중 {}간격씩 더한 값은\".format(begin,end,step,end=''))\n",
        "  return sum\n",
        "print(calcstep(1,100,1))\n",
        "print(calcstep(1,100))"
      ],
      "metadata": {
        "colab": {
          "base_uri": "https://localhost:8080/"
        },
        "id": "foub7JLU7mx7",
        "outputId": "b862150a-7a57-4691-c391-cda0709556c2"
      },
      "execution_count": 24,
      "outputs": [
        {
          "output_type": "stream",
          "name": "stdout",
          "text": [
            "1부터 100까지 숫자 중 1간격씩 더한 값은\n",
            "5050\n",
            "1부터 100까지 숫자 중 1간격씩 더한 값은\n",
            "5050\n"
          ]
        }
      ]
    },
    {
      "cell_type": "code",
      "source": [
        "def fn(a,b,c,d,e):\n",
        "  print(a,b,c,d,e)\n",
        "fn(1,2,3,4,5)\n",
        "fn(a=1,b=2,c=3,d=4,e=5)\n",
        "fn(e=5,c=3,b=2,a=1,d=4)\n",
        "fn(1,2,d=4,c=3,e=5)"
      ],
      "metadata": {
        "colab": {
          "base_uri": "https://localhost:8080/"
        },
        "id": "4lLqKtOc8NlU",
        "outputId": "4c1f1031-5829-4b00-fa82-6303ef83c291"
      },
      "execution_count": 26,
      "outputs": [
        {
          "output_type": "stream",
          "name": "stdout",
          "text": [
            "1 2 3 4 5\n",
            "1 2 3 4 5\n",
            "1 2 3 4 5\n",
            "1 2 3 4 5\n"
          ]
        }
      ]
    },
    {
      "cell_type": "code",
      "source": [
        "fn(d=4,e=5,1,2,3)"
      ],
      "metadata": {
        "colab": {
          "base_uri": "https://localhost:8080/",
          "height": 147
        },
        "id": "NRpL8nce8frU",
        "outputId": "a098ce63-34e8-482d-941b-04d8a48e03f9"
      },
      "execution_count": 28,
      "outputs": [
        {
          "output_type": "error",
          "ename": "SyntaxError",
          "evalue": "ignored",
          "traceback": [
            "\u001b[0;36m  File \u001b[0;32m\"<ipython-input-28-ad66860326ed>\"\u001b[0;36m, line \u001b[0;32m1\u001b[0m\n\u001b[0;31m    fn(d=4,e=5,1,2,3)\u001b[0m\n\u001b[0m                    ^\u001b[0m\n\u001b[0;31mSyntaxError\u001b[0m\u001b[0;31m:\u001b[0m positional argument follows keyword argument\n"
          ]
        }
      ]
    },
    {
      "cell_type": "code",
      "source": [
        "def fn(a,b,c,*d):\n",
        "  print(a,b,c,d)\n",
        "\n",
        "fn(c=3,b=2,a=1,4,5)\n",
        "fn(1,2,c=3,4,5)\n",
        "fn(4,5,a=1,b=2,c=3)"
      ],
      "metadata": {
        "colab": {
          "base_uri": "https://localhost:8080/",
          "height": 147
        },
        "id": "OjGrKd5r8n3S",
        "outputId": "b14d89b6-83fa-4cb1-86bd-8f1d9eb710f6"
      },
      "execution_count": 29,
      "outputs": [
        {
          "output_type": "error",
          "ename": "SyntaxError",
          "evalue": "ignored",
          "traceback": [
            "\u001b[0;36m  File \u001b[0;32m\"<ipython-input-29-51817d4b9c11>\"\u001b[0;36m, line \u001b[0;32m4\u001b[0m\n\u001b[0;31m    fn(c=3,b=2,a=1,4,5)\u001b[0m\n\u001b[0m                      ^\u001b[0m\n\u001b[0;31mSyntaxError\u001b[0m\u001b[0;31m:\u001b[0m positional argument follows keyword argument\n"
          ]
        }
      ]
    },
    {
      "cell_type": "code",
      "source": [
        "def return_test():\n",
        "  print(\"A위치 입니다.\")\n",
        "  return\n",
        "  print(\"B위치 입니다.\")\n",
        "\n",
        "return_test()"
      ],
      "metadata": {
        "colab": {
          "base_uri": "https://localhost:8080/"
        },
        "id": "shoB14pi88WD",
        "outputId": "fffdc189-c94b-4b23-a169-e102a02bfba1"
      },
      "execution_count": 31,
      "outputs": [
        {
          "output_type": "stream",
          "name": "stdout",
          "text": [
            "A위치 입니다.\n"
          ]
        }
      ]
    },
    {
      "cell_type": "code",
      "source": [
        "def return_test():\n",
        "  return 100\n",
        "\n",
        "value=return_test()\n",
        "print(value)"
      ],
      "metadata": {
        "colab": {
          "base_uri": "https://localhost:8080/"
        },
        "id": "mPH8BMQm_izb",
        "outputId": "ae563ed8-2912-4e0e-ae67-61333cbd1463"
      },
      "execution_count": 32,
      "outputs": [
        {
          "output_type": "stream",
          "name": "stdout",
          "text": [
            "100\n"
          ]
        }
      ]
    },
    {
      "cell_type": "code",
      "source": [
        "def add(a,b):\n",
        "  return 100\n",
        "\n",
        "value=return_test()\n",
        "print(value)"
      ],
      "metadata": {
        "colab": {
          "base_uri": "https://localhost:8080/"
        },
        "id": "skXAXWrLAAcb",
        "outputId": "717de5f6-8b7d-4bf9-ad85-2273bf7e31db"
      },
      "execution_count": 33,
      "outputs": [
        {
          "output_type": "stream",
          "name": "stdout",
          "text": [
            "100\n"
          ]
        }
      ]
    },
    {
      "cell_type": "code",
      "source": [
        "def add(a,b):\n",
        "  return a+b\n",
        "value=add(123,300)\n",
        "print(value)\n"
      ],
      "metadata": {
        "colab": {
          "base_uri": "https://localhost:8080/"
        },
        "id": "Zw43178LAKBz",
        "outputId": "73345991-e1f4-46bc-ff25-d0e8adc309f5"
      },
      "execution_count": 34,
      "outputs": [
        {
          "output_type": "stream",
          "name": "stdout",
          "text": [
            "423\n"
          ]
        }
      ]
    },
    {
      "cell_type": "code",
      "source": [
        "def big(a,b):\n",
        "  if a>b:\n",
        "    return a\n",
        "  else:\n",
        "    return b\n",
        "\n",
        "value=big(5,11)\n",
        "print(value)"
      ],
      "metadata": {
        "colab": {
          "base_uri": "https://localhost:8080/"
        },
        "id": "fPxR8OkBAUej",
        "outputId": "542df3be-af54-417b-e856-0e21574f41a3"
      },
      "execution_count": 35,
      "outputs": [
        {
          "output_type": "stream",
          "name": "stdout",
          "text": [
            "11\n"
          ]
        }
      ]
    },
    {
      "cell_type": "code",
      "source": [
        "def sum_to_n(n):\n",
        "  sum=0\n",
        "  for i in range(1,n+1):\n",
        "    sum+=i\n",
        "  return sum\n",
        "sum_to_n(10)"
      ],
      "metadata": {
        "colab": {
          "base_uri": "https://localhost:8080/"
        },
        "id": "moyWbaPLAqdk",
        "outputId": "8b0a8a9f-4b2f-4a58-a739-b2994b6e0129"
      },
      "execution_count": 36,
      "outputs": [
        {
          "output_type": "execute_result",
          "data": {
            "text/plain": [
              "55"
            ]
          },
          "metadata": {},
          "execution_count": 36
        }
      ]
    },
    {
      "cell_type": "code",
      "source": [
        "def min(*numbers):\n",
        "  min_value=numbers[0]\n",
        "  for num in numbers:\n",
        "    if min_value>num:\n",
        "      min_value=num\n",
        "  return min_value\n",
        "\n",
        "result=min(5,2,7,4)\n",
        "print(\"최소값:\",result)"
      ],
      "metadata": {
        "colab": {
          "base_uri": "https://localhost:8080/"
        },
        "id": "vD6S0a2NA38z",
        "outputId": "677994a6-cb52-46df-caa6-811fb98ecf25"
      },
      "execution_count": 37,
      "outputs": [
        {
          "output_type": "stream",
          "name": "stdout",
          "text": [
            "최소값: 2\n"
          ]
        }
      ]
    },
    {
      "cell_type": "code",
      "source": [
        "def multi_num(num,start,end):\n",
        "  result=[]\n",
        "  for n in range(start,end):\n",
        "    if n% num==0:\n",
        "      result.append(n)\n",
        "  return result\n",
        "mult=multi_num(17,1,200)\n",
        "print(mult)"
      ],
      "metadata": {
        "colab": {
          "base_uri": "https://localhost:8080/"
        },
        "id": "IKTIE7_KBORk",
        "outputId": "8650f28d-3982-423e-bd92-76a7a4e1bfe1"
      },
      "execution_count": 39,
      "outputs": [
        {
          "output_type": "stream",
          "name": "stdout",
          "text": [
            "[17, 34, 51, 68, 85, 102, 119, 136, 153, 170, 187]\n"
          ]
        }
      ]
    },
    {
      "cell_type": "code",
      "source": [
        "def min_max(*args):\n",
        "  min = args[0]\n",
        "  max = args[0]\n",
        "  for arg in args:\n",
        "    if min>arg:\n",
        "      min=arg\n",
        "    if max<arg:\n",
        "      max=arg\n",
        "  return min,max\n",
        "min,max=min_max(52,-3,23,89,-21)\n",
        "print(f\"최소:{min} 최대:{max}\")"
      ],
      "metadata": {
        "colab": {
          "base_uri": "https://localhost:8080/"
        },
        "id": "tzqwoH-6Bh2Q",
        "outputId": "e28cbed4-6066-40c6-89a0-fdbd27ccd192"
      },
      "execution_count": 40,
      "outputs": [
        {
          "output_type": "stream",
          "name": "stdout",
          "text": [
            "최소:-21 최대:89\n"
          ]
        }
      ]
    },
    {
      "cell_type": "code",
      "source": [
        "import random\n",
        "def position(number,title,column):\n",
        "  print(title)\n",
        "  students=list(range(1,number+1))\n",
        "  random.shuffle(students)\n",
        "  pos=\"\"\n",
        "  for i in range(0,number):\n",
        "    if students[i]<10:\n",
        "      pos=pos+\"0\"+str(students[i])+\"번\\t\"\n",
        "    else:\n",
        "      pos=pos+str(students[i])+\"번\\t\"\n",
        "    if(i+1)%column==0:\n",
        "      pos=pos+'\\n'\n",
        "  print(pos)\n",
        "position(20,title=\"3-2반\",column=5)"
      ],
      "metadata": {
        "colab": {
          "base_uri": "https://localhost:8080/"
        },
        "id": "WXAmc7VKColM",
        "outputId": "322665f9-d6e6-4ab4-d40e-99014c9514ed"
      },
      "execution_count": 43,
      "outputs": [
        {
          "output_type": "stream",
          "name": "stdout",
          "text": [
            "3-2반\n",
            "13번\t15번\t06번\t14번\t08번\t\n",
            "02번\t03번\t17번\t18번\t12번\t\n",
            "05번\t09번\t11번\t10번\t20번\t\n",
            "01번\t16번\t19번\t07번\t04번\t\n",
            "\n"
          ]
        }
      ]
    },
    {
      "cell_type": "code",
      "source": [
        "def hi():\n",
        "  name=input(\"이름은?\")\n",
        "  print('hi!')\n",
        "  print(\"My name is\", name, '!')\n",
        "print('자기소개를 시작합니다.')\n",
        "hi\n",
        "print(name,'님 안녕하세요.')"
      ],
      "metadata": {
        "colab": {
          "base_uri": "https://localhost:8080/"
        },
        "id": "6_9MS7S0DpQk",
        "outputId": "bbcd43e7-3ef5-4e9d-e989-471f2f9b8134"
      },
      "execution_count": 44,
      "outputs": [
        {
          "output_type": "stream",
          "name": "stdout",
          "text": [
            "자기소개를 시작합니다.\n",
            "<function name at 0x7be15bfa4b80> 님 안녕하세요.\n"
          ]
        }
      ]
    },
    {
      "cell_type": "code",
      "source": [
        "def hi():\n",
        "  name=input('이름은?')\n",
        "  print(\"hi!\")\n",
        "  print(\"My name is\",name,'!')\n",
        "  return name\n",
        "print(\"자기소개를 시작합니다\")\n",
        "person=hi()\n",
        "print(person,\"님 안녕하세요\")"
      ],
      "metadata": {
        "colab": {
          "base_uri": "https://localhost:8080/"
        },
        "id": "YaFWGiSREngM",
        "outputId": "6d75b124-0bde-4988-a9dd-0483130573f6"
      },
      "execution_count": 48,
      "outputs": [
        {
          "output_type": "stream",
          "name": "stdout",
          "text": [
            "자기소개를 시작합니다\n",
            "이름은?james\n",
            "hi!\n",
            "My name is james !\n",
            "james 님 안녕하세요\n"
          ]
        }
      ]
    },
    {
      "cell_type": "code",
      "source": [
        "def func1():\n",
        "  a+=2\n",
        "  b+=2\n",
        "  print(a,b)\n",
        "a,b=5,10\n",
        "func1()"
      ],
      "metadata": {
        "colab": {
          "base_uri": "https://localhost:8080/",
          "height": 349
        },
        "id": "iUP6XPrnFXXO",
        "outputId": "6bbc996d-f44d-47ee-c106-3ca75dad97f2"
      },
      "execution_count": 49,
      "outputs": [
        {
          "output_type": "error",
          "ename": "UnboundLocalError",
          "evalue": "ignored",
          "traceback": [
            "\u001b[0;31m---------------------------------------------------------------------------\u001b[0m",
            "\u001b[0;31mUnboundLocalError\u001b[0m                         Traceback (most recent call last)",
            "\u001b[0;32m<ipython-input-49-2fc2abbfc01b>\u001b[0m in \u001b[0;36m<cell line: 6>\u001b[0;34m()\u001b[0m\n\u001b[1;32m      4\u001b[0m   \u001b[0mprint\u001b[0m\u001b[0;34m(\u001b[0m\u001b[0ma\u001b[0m\u001b[0;34m,\u001b[0m\u001b[0mb\u001b[0m\u001b[0;34m)\u001b[0m\u001b[0;34m\u001b[0m\u001b[0;34m\u001b[0m\u001b[0m\n\u001b[1;32m      5\u001b[0m \u001b[0ma\u001b[0m\u001b[0;34m,\u001b[0m\u001b[0mb\u001b[0m\u001b[0;34m=\u001b[0m\u001b[0;36m5\u001b[0m\u001b[0;34m,\u001b[0m\u001b[0;36m10\u001b[0m\u001b[0;34m\u001b[0m\u001b[0;34m\u001b[0m\u001b[0m\n\u001b[0;32m----> 6\u001b[0;31m \u001b[0mfunc1\u001b[0m\u001b[0;34m(\u001b[0m\u001b[0;34m)\u001b[0m\u001b[0;34m\u001b[0m\u001b[0;34m\u001b[0m\u001b[0m\n\u001b[0m",
            "\u001b[0;32m<ipython-input-49-2fc2abbfc01b>\u001b[0m in \u001b[0;36mfunc1\u001b[0;34m()\u001b[0m\n\u001b[1;32m      1\u001b[0m \u001b[0;32mdef\u001b[0m \u001b[0mfunc1\u001b[0m\u001b[0;34m(\u001b[0m\u001b[0;34m)\u001b[0m\u001b[0;34m:\u001b[0m\u001b[0;34m\u001b[0m\u001b[0;34m\u001b[0m\u001b[0m\n\u001b[0;32m----> 2\u001b[0;31m   \u001b[0ma\u001b[0m\u001b[0;34m+=\u001b[0m\u001b[0;36m2\u001b[0m\u001b[0;34m\u001b[0m\u001b[0;34m\u001b[0m\u001b[0m\n\u001b[0m\u001b[1;32m      3\u001b[0m   \u001b[0mb\u001b[0m\u001b[0;34m+=\u001b[0m\u001b[0;36m2\u001b[0m\u001b[0;34m\u001b[0m\u001b[0;34m\u001b[0m\u001b[0m\n\u001b[1;32m      4\u001b[0m   \u001b[0mprint\u001b[0m\u001b[0;34m(\u001b[0m\u001b[0ma\u001b[0m\u001b[0;34m,\u001b[0m\u001b[0mb\u001b[0m\u001b[0;34m)\u001b[0m\u001b[0;34m\u001b[0m\u001b[0;34m\u001b[0m\u001b[0m\n\u001b[1;32m      5\u001b[0m \u001b[0ma\u001b[0m\u001b[0;34m,\u001b[0m\u001b[0mb\u001b[0m\u001b[0;34m=\u001b[0m\u001b[0;36m5\u001b[0m\u001b[0;34m,\u001b[0m\u001b[0;36m10\u001b[0m\u001b[0;34m\u001b[0m\u001b[0;34m\u001b[0m\u001b[0m\n",
            "\u001b[0;31mUnboundLocalError\u001b[0m: local variable 'a' referenced before assignment"
          ]
        }
      ]
    },
    {
      "cell_type": "code",
      "source": [
        "def func1():\n",
        "  #a+=2\n",
        "  #b*=2\n",
        "  print(a,b)\n",
        "a,b=5,10\n",
        "func1()"
      ],
      "metadata": {
        "colab": {
          "base_uri": "https://localhost:8080/"
        },
        "id": "lN3j6pGlGJPc",
        "outputId": "9d353428-b443-4c21-a1a9-ad8f3a4d0fef"
      },
      "execution_count": 50,
      "outputs": [
        {
          "output_type": "stream",
          "name": "stdout",
          "text": [
            "5 10\n"
          ]
        }
      ]
    },
    {
      "cell_type": "code",
      "source": [
        "def func1():\n",
        "  global a,b\n",
        "  a+=2\n",
        "  b*=2\n",
        "  print(a,b)\n",
        "a,b=5,10\n",
        "func1()\n",
        "func1()"
      ],
      "metadata": {
        "colab": {
          "base_uri": "https://localhost:8080/"
        },
        "id": "V3gFp0ddGUJD",
        "outputId": "c1488ce9-caa9-47ff-d1da-1e02ca99b512"
      },
      "execution_count": 52,
      "outputs": [
        {
          "output_type": "stream",
          "name": "stdout",
          "text": [
            "7 20\n",
            "9 40\n"
          ]
        }
      ]
    },
    {
      "cell_type": "code",
      "source": [
        "def func1():\n",
        "  global a,b\n",
        "  a+=2\n",
        "  b*=2\n",
        "  print(a,b)\n",
        "a,b=5,10\n",
        "for i in range (5):\n",
        "  func1()"
      ],
      "metadata": {
        "colab": {
          "base_uri": "https://localhost:8080/"
        },
        "id": "AsuGhezyGz7O",
        "outputId": "7bc85282-2b58-4668-bdd4-3c689c58c7ad"
      },
      "execution_count": 55,
      "outputs": [
        {
          "output_type": "stream",
          "name": "stdout",
          "text": [
            "7 20\n",
            "9 40\n",
            "11 80\n",
            "13 160\n",
            "15 320\n"
          ]
        }
      ]
    },
    {
      "cell_type": "code",
      "source": [
        "def reward_penalty(kind,points):\n",
        "  global current_point\n",
        "  print('현재 점수:',current_point)\n",
        "  if kind==\"상점\":\n",
        "    current_point+=points\n",
        "  elif kind == \"벌점\":\n",
        "    current_point-=points\n",
        "current_point=5\n",
        "\n",
        "reward_penalty('상점',5)\n",
        "print(\"최종점수 :\", current_point)"
      ],
      "metadata": {
        "colab": {
          "base_uri": "https://localhost:8080/"
        },
        "id": "2BeshVeUG7gL",
        "outputId": "087e4b08-4def-4bec-efbc-d5969d03a17c"
      },
      "execution_count": 56,
      "outputs": [
        {
          "output_type": "stream",
          "name": "stdout",
          "text": [
            "현재 점수: 5\n",
            "최종점수 : 10\n"
          ]
        }
      ]
    },
    {
      "cell_type": "markdown",
      "source": [
        "## **파일처리**"
      ],
      "metadata": {
        "id": "oM8XPCNpQQgX"
      }
    },
    {
      "cell_type": "code",
      "source": [
        "from os import close\n",
        "#ex1:파일 열고 닫기\n",
        "file=open('basic.txt','w')\n",
        "file.write(\"Hello Pyton Programming...!\")\n",
        "file.close()"
      ],
      "metadata": {
        "id": "11r5F7drQUHH"
      },
      "execution_count": 59,
      "outputs": []
    },
    {
      "cell_type": "code",
      "source": [
        "#ex2:파일 열고 닫기\n",
        "with open('basic.txt','w') as file:\n",
        "  file.write('Hello Pyton Programming...!!!')"
      ],
      "metadata": {
        "id": "voT6ZgawQ3jh"
      },
      "execution_count": 62,
      "outputs": []
    },
    {
      "cell_type": "code",
      "source": [
        "#ex3:read() 함수로 텍스트 읽기\n",
        "with open('basic.txt','r') as file:\n",
        "  contents=file.read()\n",
        "print(contents)"
      ],
      "metadata": {
        "colab": {
          "base_uri": "https://localhost:8080/"
        },
        "id": "WDJw7iHwRwlY",
        "outputId": "72ed17fc-813c-45bf-8df0-b84bd3072875"
      },
      "execution_count": 65,
      "outputs": [
        {
          "output_type": "stream",
          "name": "stdout",
          "text": [
            "\n"
          ]
        }
      ]
    },
    {
      "cell_type": "code",
      "source": [
        "#랜덤하게 50명의 키와 몸무게 만들기\n",
        "\n",
        "import random\n",
        "\n",
        "hanguls=list('가나다라마바사아자차카타파하')\n",
        "\n",
        "with open('basic.txt','w') as file:\n",
        "  file.write(\"이름  키  몸무게\\n\")\n",
        "  for i in range(50):\n",
        "    name = random.choice(hanguls)+random.choice(hanguls)\n",
        "    cm=random.randrange(160,190)\n",
        "    kg=random.randrange(40,100)\n",
        "    file.write(\"{}  {}  {}\\n\".format(name,cm,kg))"
      ],
      "metadata": {
        "id": "OR5Z64-8SL4m"
      },
      "execution_count": 80,
      "outputs": []
    },
    {
      "cell_type": "code",
      "source": [],
      "metadata": {
        "id": "iLiDxG3cUY6o"
      },
      "execution_count": null,
      "outputs": []
    }
  ]
}