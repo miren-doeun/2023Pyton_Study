{
  "nbformat": 4,
  "nbformat_minor": 0,
  "metadata": {
    "colab": {
      "provenance": []
    },
    "kernelspec": {
      "name": "python3",
      "display_name": "Python 3"
    },
    "language_info": {
      "name": "python"
    }
  },
  "cells": [
    {
      "cell_type": "code",
      "execution_count": 3,
      "metadata": {
        "colab": {
          "base_uri": "https://localhost:8080/"
        },
        "id": "TATzKBoAzrlG",
        "outputId": "5f695891-ed68-4094-9506-51691228d872"
      },
      "outputs": [
        {
          "output_type": "stream",
          "name": "stdout",
          "text": [
            "a입력:3\n",
            "b입력:4\n",
            "OK\n",
            "Okay\n"
          ]
        }
      ],
      "source": [
        "a=int(input(\"a입력:\"))\n",
        "b=int(input(\"b입력:\"))\n",
        "if a ==3 and b==4:\n",
        "  print(\"OK\")\n",
        "if a ==3 or b ==4:\n",
        "  print(\"Okay\")"
      ]
    },
    {
      "cell_type": "code",
      "source": [
        "x=int(input(\"숫자입력:\"))\n",
        "if x > 10 and x % 2==0:\n",
        "  print(\"10 초과 짝수\")"
      ],
      "metadata": {
        "colab": {
          "base_uri": "https://localhost:8080/"
        },
        "id": "AvARRMao0DsE",
        "outputId": "57fda95b-4112-44fc-fe62-98772ea58bba"
      },
      "execution_count": 7,
      "outputs": [
        {
          "output_type": "stream",
          "name": "stdout",
          "text": [
            "숫자입력:18\n",
            "10 초과 짝수\n"
          ]
        }
      ]
    },
    {
      "cell_type": "code",
      "source": [
        "x=int(input(\"필기 성적을 입력하세요:\"))\n",
        "y=int(input(\"실기 성적을 입력하세요:\"))\n",
        "if (x+y)/2>=60:\n",
        "  print(\"합격!\")\n",
        "else:\n",
        "  print(\"불합격!\")"
      ],
      "metadata": {
        "colab": {
          "base_uri": "https://localhost:8080/"
        },
        "id": "3cvWcfxQ0d4q",
        "outputId": "e351e0d3-3b06-4584-c56c-d6b911d0be6b"
      },
      "execution_count": 10,
      "outputs": [
        {
          "output_type": "stream",
          "name": "stdout",
          "text": [
            "필기 성적을 입력하세요:90\n",
            "실기 성적을 입력하세요:85\n",
            "합격!\n"
          ]
        }
      ]
    },
    {
      "cell_type": "code",
      "source": [
        "age=int(input(\"몇 살이세요?:\"))\n",
        "if age<7 or age>=65:\n",
        "  print(\"입장료는 무료입니다.\")\n",
        "else:\n",
        "  print(\"입장료는 3000원 입니다.\")"
      ],
      "metadata": {
        "colab": {
          "base_uri": "https://localhost:8080/"
        },
        "id": "cMXhIacY1asw",
        "outputId": "e8a6792a-2e91-46bb-97b2-1e8d80ef136d"
      },
      "execution_count": 22,
      "outputs": [
        {
          "output_type": "stream",
          "name": "stdout",
          "text": [
            "몇 살이세요?:18\n",
            "입장료는 3000원 입니다.\n"
          ]
        }
      ]
    },
    {
      "cell_type": "code",
      "source": [
        "age=int(input(\"나이:\"))\n",
        "height=int(input(\"키:\"))\n",
        "if age>=10 and height>=150:\n",
        "  print(\"놀이기구를 탈 수 있다.\")\n",
        "else:\n",
        "  print(\"놀이기구를 탈 수 없다.\")"
      ],
      "metadata": {
        "colab": {
          "base_uri": "https://localhost:8080/"
        },
        "id": "7_eAAOwd2V0D",
        "outputId": "8c271701-6b97-46ff-ff3a-9f38b2e612a0"
      },
      "execution_count": 23,
      "outputs": [
        {
          "output_type": "stream",
          "name": "stdout",
          "text": [
            "나이:12\n",
            "키:140\n",
            "놀이기구를 탈 수 없다.\n"
          ]
        }
      ]
    },
    {
      "cell_type": "code",
      "source": [
        "id=input(\"아이디를 입력하세요:\")\n",
        "lv=int(input(\"회원 레벨을 입력하세요:\"))\n",
        "if id=='admin' or lv==1:\n",
        "  print(\"관리자입니다.\")\n",
        "else:\n",
        "  print(\"관리자가 아닙니다.\")"
      ],
      "metadata": {
        "colab": {
          "base_uri": "https://localhost:8080/"
        },
        "id": "YnyacDPw3XRI",
        "outputId": "c34f502c-48f8-44bc-9c4b-c1c30dcef847"
      },
      "execution_count": 26,
      "outputs": [
        {
          "output_type": "stream",
          "name": "stdout",
          "text": [
            "아이디를 입력하세요:holy\n",
            "회원 레벨을 입력하세요:1\n",
            "관리자입니다.\n"
          ]
        }
      ]
    },
    {
      "cell_type": "code",
      "source": [
        "a=int(input(\"정수를 입력하세요:\"))\n",
        "if a>=1 and a<=100:\n",
        "  print(a, \"은(는) 1~100사이에 있다.\")\n",
        "else:\n",
        "  print(a, \"은(는) 1~100사이에 없다.\")"
      ],
      "metadata": {
        "colab": {
          "base_uri": "https://localhost:8080/"
        },
        "id": "8uGg3qvM5Bsa",
        "outputId": "9ef7548a-7e2b-4f58-bbba-c2f49ab97291"
      },
      "execution_count": 29,
      "outputs": [
        {
          "output_type": "stream",
          "name": "stdout",
          "text": [
            "정수를 입력하세요:24\n",
            "24 은(는) 1~100사이에 있다.\n"
          ]
        }
      ]
    },
    {
      "cell_type": "code",
      "source": [
        "month=int(input(\"몇 월인가요?:\"))\n",
        "if 3<=month<=5:\n",
        "  print(\"현재는 봄입니다.\")\n",
        "elif 3<=month<=5:\n",
        "  print(\"현재는 봄입니다.\")\n",
        "elif 6<=month<=8:\n",
        "  print(\"현재는 여름입니다.\")\n",
        "elif 9<=month<=11:\n",
        "  print(\"현재는 가을입니다.\")\n",
        "elif 12==month or month==1:\n",
        "  print(\"현재는 겨울입니다.\")\n",
        "else :\n",
        "  print(\"그런 월은 없는데요 손님?\")"
      ],
      "metadata": {
        "colab": {
          "base_uri": "https://localhost:8080/"
        },
        "id": "x5fnMixK5mqw",
        "outputId": "9b513123-82be-44fe-af4b-e0a030e45ce4"
      },
      "execution_count": 33,
      "outputs": [
        {
          "output_type": "stream",
          "name": "stdout",
          "text": [
            "몇 월인가요?:12\n",
            "현재는 겨울입니다.\n"
          ]
        }
      ]
    },
    {
      "cell_type": "code",
      "source": [
        "a=int(input(\"구매금액:\"))\n",
        "if a>=20000:\n",
        "  if a<50000:\n",
        "    print(\"배송비 2500원이 추가됩니다.\")\n",
        "  else:\n",
        "    print(\"무료배송입니다.\")\n",
        "else:\n",
        "  print(\"새벽배송이 불가능합니다.\")\n"
      ],
      "metadata": {
        "colab": {
          "base_uri": "https://localhost:8080/"
        },
        "id": "qoGvQ_xo7bLQ",
        "outputId": "f572fe2d-a77a-4d59-bac2-d1df70d6bdc8"
      },
      "execution_count": 36,
      "outputs": [
        {
          "output_type": "stream",
          "name": "stdout",
          "text": [
            "구매금액:60000\n",
            "무료배송입니다.\n"
          ]
        }
      ]
    },
    {
      "cell_type": "code",
      "source": [
        "a=int(input(\"점수를 입력하세요:\"))\n",
        "if a>=90:\n",
        "  print(\"A등급\")\n",
        "elif a>=80:\n",
        "  print(\"B등급\")\n",
        "elif a>=70:\n",
        "  print(\"C등급\")\n",
        "else :\n",
        "  print(\"F등급\")"
      ],
      "metadata": {
        "colab": {
          "base_uri": "https://localhost:8080/"
        },
        "id": "wsHDeOhJ_AwR",
        "outputId": "aacc8d9f-a2ac-4501-c367-0276e40e60c6"
      },
      "execution_count": 39,
      "outputs": [
        {
          "output_type": "stream",
          "name": "stdout",
          "text": [
            "점수를 입력하세요:55\n",
            "F등급\n"
          ]
        }
      ]
    },
    {
      "cell_type": "code",
      "source": [
        "a=int(input(\"첫 번째 수:\"))\n",
        "b=int(input(\"두 번째 수:\"))\n",
        "c=int(input(\"세 번째 수:\"))\n",
        "if a>b and a>c:\n",
        "  print(\"가장 큰 수는\", a,\"입니다.\")\n",
        "elif b>c :\n",
        "  print(\"가장 큰 수는\", b,\"입니다.\")\n",
        "else:\n",
        "  print(\"가장 큰 수는\", c,\"입니다.\")"
      ],
      "metadata": {
        "colab": {
          "base_uri": "https://localhost:8080/"
        },
        "id": "NYqESbjb_opv",
        "outputId": "0a23b4b1-5ae4-4430-f549-f9f537d1f5a5"
      },
      "execution_count": 43,
      "outputs": [
        {
          "output_type": "stream",
          "name": "stdout",
          "text": [
            "첫 번째 수:123\n",
            "두 번째 수:3\n",
            "세 번째 수:2\n",
            "가장 큰 수는 123 입니다.\n"
          ]
        }
      ]
    },
    {
      "cell_type": "code",
      "source": [
        "a=int(input(\"온도를 입력하세요:\"))\n",
        "if a<0:\n",
        "  print(\"고체\")\n",
        "elif a>=0 and a<100:\n",
        "  print(\"액체\")\n",
        "else:\n",
        "  print(\"기체\")"
      ],
      "metadata": {
        "colab": {
          "base_uri": "https://localhost:8080/"
        },
        "id": "179T-oMEAQeP",
        "outputId": "a82def97-0d34-48ca-e383-030296b16fc3"
      },
      "execution_count": 47,
      "outputs": [
        {
          "output_type": "stream",
          "name": "stdout",
          "text": [
            "온도를 입력하세요:-2\n",
            "고체\n"
          ]
        }
      ]
    },
    {
      "cell_type": "code",
      "source": [
        "en=int(input(\"영어시험 점수를 입력하세요:\"))\n",
        "me=int(input(\"수학시험 점수를 입력하세요:\"))\n",
        "if en>=80 and me>=80:\n",
        "  print(\"합격\")\n",
        "elif en >=80 or me>=80:\n",
        "  print(\"재시험\")\n",
        "else:\n",
        "  print(\"불합격\")"
      ],
      "metadata": {
        "colab": {
          "base_uri": "https://localhost:8080/"
        },
        "id": "BO2GdpJABCsA",
        "outputId": "76749b84-2b21-4c4c-ea87-52f1425620cd"
      },
      "execution_count": 51,
      "outputs": [
        {
          "output_type": "stream",
          "name": "stdout",
          "text": [
            "영어시험 점수를 입력하세요:60\n",
            "수학시험 점수를 입력하세요:60\n",
            "불합격\n"
          ]
        }
      ]
    },
    {
      "cell_type": "code",
      "source": [
        "print(\"1: 매우만족   2:만족    3:불만족\")\n",
        "a=int(input(\"서비스가 어떠셨나요?:\"))\n",
        "b=int(input(\"음식값을 입력해 주세요:\"))\n",
        "if a==1:\n",
        "  print(\"팁:\", int(b*0.2))\n",
        "elif a==2:\n",
        "  print(\"팁:\", int(b*0.1))\n",
        "else:\n",
        "  print(\"팁:\", int(b*0.05))"
      ],
      "metadata": {
        "colab": {
          "base_uri": "https://localhost:8080/"
        },
        "id": "c-raowUaCA2X",
        "outputId": "d020232a-74af-4453-b5fd-a02b1f7e9a2e"
      },
      "execution_count": 57,
      "outputs": [
        {
          "output_type": "stream",
          "name": "stdout",
          "text": [
            "1: 매우만족   2:만족    3:불만족\n",
            "서비스가 어떠셨나요?:3\n",
            "음식값을 입력해 주세요:1000\n",
            "팁: 50\n"
          ]
        }
      ]
    },
    {
      "cell_type": "code",
      "source": [
        "a=int(input(\"물건 구매가를 입력하세요:\"))\n",
        "print(\"구매가:\",a)\n",
        "if a>=50000 and a<=300000:\n",
        "  print(\"할인률7.5%\")\n",
        "  print(\"할인 금액\", int(a*0.075))\n",
        "  print(\"지불 금액\", int(a-(a*0.075)))\n",
        "elif a<50000:\n",
        "  print(\"할인률5%\")\n",
        "  print(\"할인 금액\", int(a*0.05))\n",
        "  print(\"지불 금액\", int(a-(a*0.05)))\n",
        "else:\n",
        "  print(\"할인률10%\")\n",
        "  print(\"할인 금액\", int(a*0.1))\n",
        "  print(\"지불 금액\", int(a-(a*0.1)))"
      ],
      "metadata": {
        "colab": {
          "base_uri": "https://localhost:8080/"
        },
        "id": "KgCazOV-CzyR",
        "outputId": "bc2888db-b5ea-4f18-fcd1-c477493ce0af"
      },
      "execution_count": 62,
      "outputs": [
        {
          "output_type": "stream",
          "name": "stdout",
          "text": [
            "물건 구매가를 입력하세요:60000\n",
            "구매가: 60000\n",
            "할인률7.5%\n",
            "할인 금액 4500\n",
            "지불 금액 55500\n"
          ]
        }
      ]
    },
    {
      "cell_type": "code",
      "source": [
        "print(\"원하는 메뉴를 선택하세요\")\n",
        "print(\"1.떡볶이 3000원\")\n",
        "print(\"2.김밥 2500원\")\n",
        "print(\"3.튀김 3500원\")\n",
        "a=int(input(\"번호 선택:\"))\n",
        "if a==1:\n",
        "  print(\"당신은 떡볶이를 선택하셨군요!\")\n",
        "  b=int(input(\"떡볶이 몇 인분을 주문하시겠습니까?\"))\n",
        "  print(\"총 가격은\", 3000*b,\"원 입니다.\")\n",
        "elif b==2:\n",
        "  print(\"당신은 김밥을 선택하셨군요!\")\n",
        "  b=int(input(\"김밥 몇 인분을 주문하시겠습니까?\"))\n",
        "  print(\"총 가격은\", 2500*b,\"원 입니다.\")\n",
        "elif b==3:\n",
        "  print(\"당신은 튀김을 선택하셨군요!\")\n",
        "  b=int(input(\"튀김 몇 인분을 주문하시겠습니까?\"))\n",
        "  print(\"총 가격은\", 3500*b,\"원 입니다.\")\n",
        "else:\n",
        "  print(\"1, 2, 3 중 하나를 선택해주세요\")"
      ],
      "metadata": {
        "colab": {
          "base_uri": "https://localhost:8080/"
        },
        "id": "d53bDqTbEJl3",
        "outputId": "d4021599-74f8-416a-d72d-257111e51674"
      },
      "execution_count": 70,
      "outputs": [
        {
          "output_type": "stream",
          "name": "stdout",
          "text": [
            "원하는 메뉴를 선택하세요\n",
            "1.떡볶이 3000원\n",
            "2.김밥 2500원\n",
            "3.튀김 3500원\n",
            "번호 선택:2\n",
            "당신은 김밥을 선택하셨군요!\n",
            "김밥 몇 인분을 주문하시겠습니까?3\n",
            "총 가격은 7500 원 입니다.\n"
          ]
        }
      ]
    },
    {
      "cell_type": "code",
      "source": [
        "kg=int(input(\"체중을 입력하세요:\"))\n",
        "m=float(input(\"키를 입력하세요:\"))\n",
        "bmi=kg/(m*m)\n",
        "if bmi<=23 and bmi>18.5:\n",
        "  print(\"당신의 BMI지수는\",bmi,\"이며 정상입니다.\")\n",
        "elif bmi>23 and bmi<=25:\n",
        "  print(\"당신의 BMI지수는\",bmi,\"이며 과체중입니다.\")\n",
        "elif bmi<=18.5:\n",
        "  print(\"당신의 BMI지수는\",bmi,\"이며 저체중입니다.\")\n",
        "else:\n",
        "  print(\"당신의 BMI지수는\",bmi,\"이며 비만입니다.\")"
      ],
      "metadata": {
        "colab": {
          "base_uri": "https://localhost:8080/"
        },
        "id": "4O7usOgvHT6o",
        "outputId": "484286f2-ebb2-4a87-d0be-934fb6f00271"
      },
      "execution_count": 82,
      "outputs": [
        {
          "output_type": "stream",
          "name": "stdout",
          "text": [
            "체중을 입력하세요:59\n",
            "키를 입력하세요:1.65\n",
            "당신의 BMI지수는 21.6712580348944 이며 정상입니다.\n"
          ]
        }
      ]
    },
    {
      "cell_type": "code",
      "source": [
        "x=17\n",
        "if x>10:\n",
        "  if x % 2 ==0:\n",
        "    print(\"10초과 짝수\")\n",
        "  else:\n",
        "    print(\"10초과 홀수\")\n",
        "else:\n",
        "  print(\"10이하\")"
      ],
      "metadata": {
        "colab": {
          "base_uri": "https://localhost:8080/"
        },
        "id": "ziddpv8qIwJ_",
        "outputId": "e8e73ec3-b032-427a-aaed-a9b9db6fa899"
      },
      "execution_count": 83,
      "outputs": [
        {
          "output_type": "stream",
          "name": "stdout",
          "text": [
            "10초과 홀수\n"
          ]
        }
      ]
    },
    {
      "cell_type": "code",
      "source": [
        "id=input(\"아이디를 입력하세요:\")\n",
        "lv=int(input(\"회원 레벨을 입력해 주세요:\"))\n",
        "if id==\"admin\":\n",
        "  print(\"모든 콘텐츠 이용가능\")\n",
        "elif lv>=2 and lv<=7:\n",
        "  print(\"일부 콘텐츠 이용 가능\")\n",
        "else:\n",
        "  print(\"콘텐츠 이용 불가능\")"
      ],
      "metadata": {
        "colab": {
          "base_uri": "https://localhost:8080/"
        },
        "id": "RootNmOsM7FB",
        "outputId": "bbf4ac5d-4ecf-4df6-9dfa-6d9d584cdd44"
      },
      "execution_count": 88,
      "outputs": [
        {
          "output_type": "stream",
          "name": "stdout",
          "text": [
            "아이디를 입력하세요:admin\n",
            "회원 레벨을 입력해 주세요:1\n",
            "모든 콘텐츠 이용가능\n"
          ]
        }
      ]
    },
    {
      "cell_type": "code",
      "source": [
        "a=int(input(\"현재년을 입력해 주세요 : \"))\n",
        "b=int(input(\"현재월을 입력해 주세요 : \"))\n",
        "c=int(input(\"현재일을 입력해 주세요 : \"))\n",
        "d=int(input(\"출생년을 입력해 주세요 : \"))\n",
        "e=int(input(\"출생월을 입력해 주세요 : \"))\n",
        "f=int(input(\"출생일을 입력해 주세요 : \"))\n",
        "print(\"-------------------------------------------------\")\n",
        "print(\"오늘 날짜 :\", a,\"년\",b,\"월\",c,\"일\")\n",
        "print(\"생년 월일 :\", d,\"년\",e,\"월\",f,\"일\")\n",
        "print(\"-------------------------------------------------\")\n",
        "if b>e:\n",
        "  print(\"만 나이 :\",a-d,\"세\")\n",
        "elif b==e:\n",
        "  if f<c:\n",
        "    print(\"만 나이 :\",a-d,\"세\")\n",
        "  else:\n",
        "    print(\"만 나이 :\",a-d-1,\"세\")\n",
        "  print(\"-------------------------------------------------\")\n",
        "else:\n",
        "  print(\"만 나이 :\",a-d-1,\"세\")\n",
        "print(\"-------------------------------------------------\")"
      ],
      "metadata": {
        "colab": {
          "base_uri": "https://localhost:8080/"
        },
        "id": "puwkarB3NJIt",
        "outputId": "ced73e16-cf32-43a0-8755-4662144677bb"
      },
      "execution_count": 93,
      "outputs": [
        {
          "output_type": "stream",
          "name": "stdout",
          "text": [
            "현재년을 입력해 주세요 : 2020\n",
            "현재월을 입력해 주세요 : 1\n",
            "현재일을 입력해 주세요 : 27\n",
            "출생년을 입력해 주세요 : 1997\n",
            "출생월을 입력해 주세요 : 5\n",
            "출생일을 입력해 주세요 : 7\n",
            "-------------------------------------------------\n",
            "오늘 날짜 : 2020 년 1 월 27 일\n",
            "생년 월일 : 1997 년 5 월 7 일\n",
            "-------------------------------------------------\n",
            "만 나이 : 22 세\n",
            "-------------------------------------------------\n"
          ]
        }
      ]
    },
    {
      "cell_type": "code",
      "source": [
        "import datetime\n",
        "from pytz import timezone\n",
        "now = datetime.datetime.now(timezone('Asia/Seoul'))\n",
        "\n",
        "print(now)\n",
        "print(now.year)\n",
        "print(now.month)\n",
        "print(now.day)\n",
        "print(now.hour)\n",
        "print(now.minute)\n",
        "print(now.second)"
      ],
      "metadata": {
        "colab": {
          "base_uri": "https://localhost:8080/"
        },
        "id": "s38BvRbrQlaO",
        "outputId": "dc0dae2d-b9e4-47db-955d-06b486ba00dc"
      },
      "execution_count": 94,
      "outputs": [
        {
          "output_type": "stream",
          "name": "stdout",
          "text": [
            "2023-03-30 11:17:53.084368+09:00\n",
            "2023\n",
            "3\n",
            "30\n",
            "11\n",
            "17\n",
            "53\n"
          ]
        }
      ]
    },
    {
      "cell_type": "code",
      "source": [
        "import datetime\n",
        "from pytz import timezone\n",
        "now = datetime.datetime.now(timezone('Asia/Seoul'))\n",
        "if now.hour>=12:\n",
        "  a=\"오후\"\n",
        "else:\n",
        "  a=\"오전\"\n",
        "\n",
        "\n",
        "print(\"현재시간은\",now.hour,\"시\",now.minute,\"분으로\", a,\"입니다\")"
      ],
      "metadata": {
        "colab": {
          "base_uri": "https://localhost:8080/"
        },
        "id": "3KuFOht_TqUd",
        "outputId": "b3dcaca8-7711-4a58-c1e3-cb62dcf18b4d"
      },
      "execution_count": 96,
      "outputs": [
        {
          "output_type": "stream",
          "name": "stdout",
          "text": [
            "현재시간은 11 시 21 분으로 오전 입니다\n"
          ]
        }
      ]
    },
    {
      "cell_type": "code",
      "source": [
        "import datetime\n",
        "from pytz import timezone\n",
        "now = datetime.datetime.now(timezone('Asia/Seoul'))\n",
        "\n",
        "if 3>=now.month>=5:\n",
        "  print(\"이번 달은\",now.month,\"로 봄입니다.\")\n",
        "elif 6>now.month>=8:\n",
        "  print(\"이번 달은\",now.month,\"로 여름입니다.\")\n",
        "elif 9>now.month>=11:\n",
        "  print(\"이번 달은\",now.month,\"로 가을입니다.\")\n",
        "else:\n",
        "  print(\"이번 달은\",now.month,\"로 겨울입니다.\")"
      ],
      "metadata": {
        "colab": {
          "base_uri": "https://localhost:8080/"
        },
        "id": "ezXYUP4TUZoV",
        "outputId": "1372dcbd-ec13-4f93-81d6-5d97a51f8f3f"
      },
      "execution_count": 97,
      "outputs": [
        {
          "output_type": "stream",
          "name": "stdout",
          "text": [
            "이번 달은 3 로 겨울입니다.\n"
          ]
        }
      ]
    },
    {
      "cell_type": "code",
      "source": [],
      "metadata": {
        "id": "KsH4KD-hVsfR"
      },
      "execution_count": null,
      "outputs": []
    }
  ]
}