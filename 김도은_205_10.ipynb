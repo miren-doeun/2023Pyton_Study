{
  "nbformat": 4,
  "nbformat_minor": 0,
  "metadata": {
    "colab": {
      "provenance": [],
      "include_colab_link": true
    },
    "kernelspec": {
      "name": "python3",
      "display_name": "Python 3"
    },
    "language_info": {
      "name": "python"
    }
  },
  "cells": [
    {
      "cell_type": "markdown",
      "metadata": {
        "id": "view-in-github",
        "colab_type": "text"
      },
      "source": [
        "<a href=\"https://colab.research.google.com/github/miren-doeun/2023Pyton_Study/blob/main/%EA%B9%80%EB%8F%84%EC%9D%80_205_10.ipynb\" target=\"_parent\"><img src=\"https://colab.research.google.com/assets/colab-badge.svg\" alt=\"Open In Colab\"/></a>"
      ]
    },
    {
      "cell_type": "code",
      "execution_count": 20,
      "metadata": {
        "id": "N0UsZDvSLpyK",
        "colab": {
          "base_uri": "https://localhost:8080/"
        },
        "outputId": "ddbfe1e8-decc-4a55-b216-fd81c7c74a52"
      },
      "outputs": [
        {
          "output_type": "stream",
          "name": "stdout",
          "text": [
            "총점 : 354 평균: 88.5\n",
            "총점 : 275 평균: 68.75\n",
            "총점 : 328 평균: 82.0\n",
            "전체평균: 79.75\n"
          ]
        }
      ],
      "source": [
        "score=[88,76,92,98],[65,70,58,82],[82,80,78,88]\n",
        "total=0\n",
        "totalsub=0\n",
        "for i in score:\n",
        "  total=0\n",
        "  for j in i:\n",
        "    total+=j\n",
        "  totalsub+=total/4\n",
        "  print(f\"총점 : {total} 평균: {total/4}\")\n",
        "print(f\"전체평균: {totalsub/3}\")"
      ]
    },
    {
      "cell_type": "code",
      "source": [
        "for i in [1,2,3]:\n",
        "  for j in [\"a\",\"b\",\"c\"]:\n",
        "    print(i*j,end=\" \")"
      ],
      "metadata": {
        "colab": {
          "base_uri": "https://localhost:8080/"
        },
        "id": "kgJNqo_-Yvx8",
        "outputId": "606a2c43-2f81-4d4f-f855-0253ac4b04e0"
      },
      "execution_count": 24,
      "outputs": [
        {
          "output_type": "stream",
          "name": "stdout",
          "text": [
            "a b c aa bb cc aaa bbb ccc "
          ]
        }
      ]
    },
    {
      "cell_type": "code",
      "source": [
        "score=[88,76,92,98],[65,70,58,82],[82,80,78,88]\n",
        "total=0\n",
        "totalsub=0\n",
        "for i in range(len(score)):\n",
        "  total=0\n",
        "  for j in range(len(score[i])):\n",
        "    total+=score[i][j]\n",
        "  totalsub+=total/4\n",
        "  print(f\"총점 : {total} 평균: {total/4}\")\n",
        "print(f\"전체 평균 : {totalsub/3}\")"
      ],
      "metadata": {
        "colab": {
          "base_uri": "https://localhost:8080/"
        },
        "id": "sXFM9BvIZyRv",
        "outputId": "a3fc7f5b-a957-4212-84e5-57fe52f300a3"
      },
      "execution_count": 40,
      "outputs": [
        {
          "output_type": "stream",
          "name": "stdout",
          "text": [
            "총점 : 354 평균: 88.5\n",
            "총점 : 275 평균: 68.75\n",
            "총점 : 328 평균: 82.0\n",
            "전체 평균 : 79.75\n"
          ]
        }
      ]
    },
    {
      "cell_type": "code",
      "source": [
        "s='python'\n",
        "print(s[2:5])\n",
        "print(s[3:])\n",
        "print(s[0:4])\n",
        "print(s[2:4])\n",
        "print(s[4:])"
      ],
      "metadata": {
        "colab": {
          "base_uri": "https://localhost:8080/"
        },
        "id": "Rg3AKIy_fGEh",
        "outputId": "5f16d32a-2405-4030-a373-54575d2890ec"
      },
      "execution_count": 47,
      "outputs": [
        {
          "output_type": "stream",
          "name": "stdout",
          "text": [
            "tho\n",
            "hon\n",
            "pyth\n",
            "th\n",
            "on\n"
          ]
        }
      ]
    },
    {
      "cell_type": "code",
      "source": [
        "s=\"pyhton\"\n",
        "print(s[0])\n",
        "print(s[-1])"
      ],
      "metadata": {
        "colab": {
          "base_uri": "https://localhost:8080/"
        },
        "id": "X9p7CvVTi0Ds",
        "outputId": "94c41ab8-b049-4e81-9fff-8ed3b99ba9b4"
      },
      "execution_count": 49,
      "outputs": [
        {
          "output_type": "stream",
          "name": "stdout",
          "text": [
            "p\n",
            "n\n"
          ]
        }
      ]
    },
    {
      "cell_type": "code",
      "source": [
        "s=\"pyhton\"\n",
        "print(s[10])"
      ],
      "metadata": {
        "colab": {
          "base_uri": "https://localhost:8080/",
          "height": 190
        },
        "id": "RKeld3uNjHf0",
        "outputId": "c01f04bd-c851-4e33-e673-652192ff6780"
      },
      "execution_count": 51,
      "outputs": [
        {
          "output_type": "error",
          "ename": "IndexError",
          "evalue": "ignored",
          "traceback": [
            "\u001b[0;31m---------------------------------------------------------------------------\u001b[0m",
            "\u001b[0;31mIndexError\u001b[0m                                Traceback (most recent call last)",
            "\u001b[0;32m<ipython-input-51-0cc21e707ab2>\u001b[0m in \u001b[0;36m<cell line: 2>\u001b[0;34m()\u001b[0m\n\u001b[1;32m      1\u001b[0m \u001b[0ms\u001b[0m\u001b[0;34m=\u001b[0m\u001b[0;34m\"pyhton\"\u001b[0m\u001b[0;34m\u001b[0m\u001b[0;34m\u001b[0m\u001b[0m\n\u001b[0;32m----> 2\u001b[0;31m \u001b[0mprint\u001b[0m\u001b[0;34m(\u001b[0m\u001b[0ms\u001b[0m\u001b[0;34m[\u001b[0m\u001b[0;36m10\u001b[0m\u001b[0;34m]\u001b[0m\u001b[0;34m)\u001b[0m\u001b[0;34m\u001b[0m\u001b[0;34m\u001b[0m\u001b[0m\n\u001b[0m",
            "\u001b[0;31mIndexError\u001b[0m: string index out of range"
          ]
        }
      ]
    },
    {
      "cell_type": "code",
      "source": [
        "s1=input(\"첫번째 문자열: \")\n",
        "s2=input(\"두번째 문자열: \")\n",
        "s3=input(\"세번째 문자열: \")\n",
        "if s1[-1]==s2[0] and s2[-1]==s3[0] and s3[-1]==s1[0]:\n",
        "  print(\"good\")\n",
        "else:\n",
        "  print(\"bad\")"
      ],
      "metadata": {
        "colab": {
          "base_uri": "https://localhost:8080/"
        },
        "id": "xGQBZGy8jP6T",
        "outputId": "99f797a4-3803-4978-f25b-8576c37a7cd6"
      },
      "execution_count": 57,
      "outputs": [
        {
          "output_type": "stream",
          "name": "stdout",
          "text": [
            "첫번째 문자열: turtle\n",
            "두번째 문자열: error\n",
            "세번째 문자열: robot\n",
            "good\n"
          ]
        }
      ]
    },
    {
      "cell_type": "code",
      "source": [
        "s=\"python\"\n",
        "for i in range(len(s)):\n",
        "  print(s[i],end=\",\")"
      ],
      "metadata": {
        "colab": {
          "base_uri": "https://localhost:8080/"
        },
        "id": "PU-ktzpZk3vt",
        "outputId": "42d4f1fd-0bf4-4a1b-bf38-70a29d7f2e89"
      },
      "execution_count": 66,
      "outputs": [
        {
          "output_type": "stream",
          "name": "stdout",
          "text": [
            "p,y,t,h,o,n,"
          ]
        }
      ]
    },
    {
      "cell_type": "code",
      "source": [
        "s=\"python\"\n",
        "for c in s:\n",
        "  print(c,end=\",\")"
      ],
      "metadata": {
        "colab": {
          "base_uri": "https://localhost:8080/"
        },
        "id": "mEpe9Cnil0bX",
        "outputId": "be927bfd-d5ab-44d4-d429-5512157cd510"
      },
      "execution_count": 69,
      "outputs": [
        {
          "output_type": "stream",
          "name": "stdout",
          "text": [
            "p,y,t,h,o,n,"
          ]
        }
      ]
    },
    {
      "cell_type": "code",
      "source": [
        "number=input(\"하이픈(-)을 포함한 유대번호를 입력하세요:\")\n",
        "for i in number:\n",
        "  if i!='-':\n",
        "    print(i,end=\"\")"
      ],
      "metadata": {
        "colab": {
          "base_uri": "https://localhost:8080/"
        },
        "id": "2HQ5ZN0gmA4s",
        "outputId": "1d6611b9-9723-4b2c-8095-af55fde28974"
      },
      "execution_count": 74,
      "outputs": [
        {
          "output_type": "stream",
          "name": "stdout",
          "text": [
            "하이픈(-)을 포함한 유대번호를 입력하세요:010-3980-6164\n",
            "01039806164"
          ]
        }
      ]
    },
    {
      "cell_type": "code",
      "source": [
        "s=\"python\"\n",
        "n=\"여섯글자이다\"\n",
        "p=0\n",
        "l=0\n",
        "for i in s:\n",
        "  p+=1\n",
        "for j in n:\n",
        "  l+=1\n",
        "print(p)\n",
        "print(l)"
      ],
      "metadata": {
        "colab": {
          "base_uri": "https://localhost:8080/"
        },
        "id": "AqzyofdCnABz",
        "outputId": "d7bbbbe9-88cd-4116-cadb-5da33095b0e3"
      },
      "execution_count": 81,
      "outputs": [
        {
          "output_type": "stream",
          "name": "stdout",
          "text": [
            "6\n",
            "6\n"
          ]
        }
      ]
    },
    {
      "cell_type": "code",
      "source": [
        "sentence=input(\"문자열 입력:\")\n",
        "n=0\n",
        "for i in sentence:\n",
        "  n+=1\n",
        "  if i==\"t\":\n",
        "    print(n ,end=\" \")"
      ],
      "metadata": {
        "colab": {
          "base_uri": "https://localhost:8080/"
        },
        "id": "c6LF3qqen4un",
        "outputId": "eaaf56e6-ffdb-4dd4-b0dd-9dbc75ff5850"
      },
      "execution_count": 88,
      "outputs": [
        {
          "output_type": "stream",
          "name": "stdout",
          "text": [
            "문자열 입력:test\n",
            "1 4 "
          ]
        }
      ]
    },
    {
      "cell_type": "code",
      "source": [
        "sentence=input(\"문장을 입력해 주세요 : \")\n",
        "i=len(sentence)-1\n",
        "while i>=0:\n",
        "  if sentence[i]==' ':\n",
        "    print(\"-\",end='')\n",
        "  else:\n",
        "    print(sentence[i],end=\"\")\n",
        "  i-=1"
      ],
      "metadata": {
        "colab": {
          "base_uri": "https://localhost:8080/"
        },
        "id": "Nzt5gWB9oo2Z",
        "outputId": "c6a1ff68-99b6-4c27-8ea6-79e6ebf4c748"
      },
      "execution_count": 145,
      "outputs": [
        {
          "output_type": "stream",
          "name": "stdout",
          "text": [
            "문장을 입력해 주세요 : fo or\n",
            "ro-of"
          ]
        }
      ]
    },
    {
      "cell_type": "code",
      "source": [
        "data =input(\"문자열 입력:\")\n",
        "for i in range(len(data)-1):\n",
        "  print(data[i], data[i+1], sep=\"\")"
      ],
      "metadata": {
        "colab": {
          "base_uri": "https://localhost:8080/"
        },
        "id": "769V3OAltYpn",
        "outputId": "b4b41fc8-ecc2-4c51-c839-a603ce18b9da"
      },
      "execution_count": 114,
      "outputs": [
        {
          "output_type": "stream",
          "name": "stdout",
          "text": [
            "문자열 입력:python\n",
            "py\n",
            "yt\n",
            "th\n",
            "ho\n",
            "on\n"
          ]
        }
      ]
    },
    {
      "cell_type": "code",
      "source": [
        "s=\"차종: 코란도C, 제조사:쌍용, 배기량:1998\"\n",
        "print(s[14:16])"
      ],
      "metadata": {
        "colab": {
          "base_uri": "https://localhost:8080/"
        },
        "id": "yT7CkER4ue6h",
        "outputId": "917e5c2a-bff2-41b5-a613-709f57a71a96"
      },
      "execution_count": 117,
      "outputs": [
        {
          "output_type": "stream",
          "name": "stdout",
          "text": [
            "쌍용\n"
          ]
        }
      ]
    },
    {
      "cell_type": "code",
      "source": [
        "file=\"20210505-104830.jpg\"\n",
        "print(\"촬영 날짜: \"+file[4:6]+\"월\"+file[6:8]+\"일\")\n",
        "print(\"촬영 시간: \"+file[9:11]+\"시\"+file[11:13]+\"분\")\n",
        "print(\"확장자:\"+file[16:])"
      ],
      "metadata": {
        "colab": {
          "base_uri": "https://localhost:8080/"
        },
        "id": "OeVierAvuxzz",
        "outputId": "ce6f4c88-8374-4357-b87a-f92e388a13c7"
      },
      "execution_count": 122,
      "outputs": [
        {
          "output_type": "stream",
          "name": "stdout",
          "text": [
            "촬영 날짜: 05월05일\n",
            "촬영 시간: 10시48분\n",
            "확장자:jpg\n"
          ]
        }
      ]
    },
    {
      "cell_type": "code",
      "source": [
        "yoil=\"월화수목금토일\"\n",
        "print(yoil[0: :2])\n",
        "print(yoil[-1: :-1])"
      ],
      "metadata": {
        "colab": {
          "base_uri": "https://localhost:8080/"
        },
        "id": "1U6Fh24xvl5N",
        "outputId": "82233479-ee01-4989-dd81-f41e416de914"
      },
      "execution_count": 136,
      "outputs": [
        {
          "output_type": "stream",
          "name": "stdout",
          "text": [
            "월수금일\n",
            "일토금목수화월\n"
          ]
        }
      ]
    },
    {
      "cell_type": "code",
      "source": [
        "jumin=\"901231-1914983\"\n",
        "year=jumin[0:2]\n",
        "if jumin[7]=='1':\n",
        "  gender=\"남자\"\n",
        "else:\n",
        "  gender=\"여자\"\n",
        "print(f\"{year}년생 {gender}입니다.\")"
      ],
      "metadata": {
        "colab": {
          "base_uri": "https://localhost:8080/"
        },
        "id": "VipAp-Zww4VI",
        "outputId": "7bf5bf59-f02e-409c-b3fd-8ece78da6dbf"
      },
      "execution_count": 144,
      "outputs": [
        {
          "output_type": "stream",
          "name": "stdout",
          "text": [
            "90년생 남자입니다.\n"
          ]
        }
      ]
    }
  ]
}