{
  "nbformat": 4,
  "nbformat_minor": 0,
  "metadata": {
    "colab": {
      "provenance": []
    },
    "kernelspec": {
      "name": "python3",
      "display_name": "Python 3"
    },
    "language_info": {
      "name": "python"
    }
  },
  "cells": [
    {
      "cell_type": "markdown",
      "source": [
        "## **Python 입출력**"
      ],
      "metadata": {
        "id": "efDr700992i1"
      }
    },
    {
      "cell_type": "markdown",
      "source": [
        "📌 input 함수를 이용해 사용자가 입력한 문자열을 변수에 저장한다."
      ],
      "metadata": {
        "id": "NEyH2LCVbVi8"
      }
    },
    {
      "cell_type": "code",
      "execution_count": null,
      "metadata": {
        "id": "qSnkGoZg90Cu",
        "colab": {
          "base_uri": "https://localhost:8080/"
        },
        "outputId": "e0505ba1-9915-4d4b-f4d2-feb5aa946518"
      },
      "outputs": [
        {
          "name": "stdout",
          "output_type": "stream",
          "text": [
            "밑변의 길이를 입력하세요 : 7\n",
            "높이를 입력하세요 : 13\n"
          ]
        }
      ],
      "source": [
        "w =int(input(\"밑변의 길이를 입력하세요 : \"))\n",
        "h =int(input(\"높이를 입력하세요 : \"))"
      ]
    },
    {
      "cell_type": "markdown",
      "source": [
        "📌 print 함수를 이용해 문자열이나 변수를 출력한다."
      ],
      "metadata": {
        "id": "TC1k9L2Gb59k"
      }
    },
    {
      "cell_type": "code",
      "source": [
        "print(\"밑변 : \",w,\"높이 : \",h)"
      ],
      "metadata": {
        "id": "zx1p0s6s_mk6",
        "colab": {
          "base_uri": "https://localhost:8080/"
        },
        "outputId": "877dd1d0-6b22-4165-8f12-0c138d03d701"
      },
      "execution_count": null,
      "outputs": [
        {
          "output_type": "stream",
          "name": "stdout",
          "text": [
            "밑변 :  7 높이 :  13\n"
          ]
        }
      ]
    },
    {
      "cell_type": "code",
      "source": [
        "a=w*h/2\n",
        "print(\"삼각형의 넓이 : \",a)"
      ],
      "metadata": {
        "id": "ogGTG2mQ_8pN",
        "colab": {
          "base_uri": "https://localhost:8080/"
        },
        "outputId": "19821a3b-6107-405f-a9e1-0cc064b51e5a"
      },
      "execution_count": null,
      "outputs": [
        {
          "output_type": "stream",
          "name": "stdout",
          "text": [
            "삼각형의 넓이 :  45.5\n"
          ]
        }
      ]
    },
    {
      "cell_type": "markdown",
      "source": [
        "> f스트링을 이용하면 변수를 쉽게 출력할 수 있다."
      ],
      "metadata": {
        "id": "qKpQmaEScdcl"
      }
    },
    {
      "cell_type": "code",
      "source": [
        "print(f'밑변이 {w}, 높이가 {h}인 삼각형의 넓이는 {a}이다.')"
      ],
      "metadata": {
        "id": "NJK2-AuBA7vp",
        "colab": {
          "base_uri": "https://localhost:8080/"
        },
        "outputId": "d247e84a-afc3-4e49-8f92-815134d7ac72"
      },
      "execution_count": null,
      "outputs": [
        {
          "output_type": "stream",
          "name": "stdout",
          "text": [
            "밑변이 7, 높이가 13인 삼각형의 넓이는 45.5이다.\n"
          ]
        }
      ]
    },
    {
      "cell_type": "markdown",
      "source": [
        "> %서식문자를 이용해 출력 값을 포매팅할 수 있다."
      ],
      "metadata": {
        "id": "xqNjeJVqdAmo"
      }
    },
    {
      "cell_type": "code",
      "source": [
        "print('밑변이 {}, 높이가 {}인 삼각형의 넓이는 {}이다'.format(w, h, a))"
      ],
      "metadata": {
        "id": "ItnQo4VIBN2M",
        "colab": {
          "base_uri": "https://localhost:8080/"
        },
        "outputId": "8f61eadd-6b04-4e11-c7cb-485a4fcb41b0"
      },
      "execution_count": null,
      "outputs": [
        {
          "output_type": "stream",
          "name": "stdout",
          "text": [
            "밑변이 7, 높이가 13인 삼각형의 넓이는 45.5이다\n"
          ]
        }
      ]
    },
    {
      "cell_type": "markdown",
      "source": [
        "## **Python 제어문**"
      ],
      "metadata": {
        "id": "znkZTcvGHtzx"
      }
    },
    {
      "cell_type": "markdown",
      "source": [
        "📌 if 구문으로 \"조건\"에 따라 실행의 흐름이 달라지게 할 수 있다."
      ],
      "metadata": {
        "id": "0QgvOqW9dK5v"
      }
    },
    {
      "cell_type": "code",
      "source": [
        "# 90점이상 A 80점이상 B 70점이상 C 나머지는 D\n",
        "score = int(input(\"점수 입력 : \"))\n",
        "\n",
        "if score>=90:\n",
        "  print(\"A\")\n",
        "elif score>=80:\n",
        "  print(\"B\")\n",
        "elif score>=70:\n",
        "  print(\"C\")\n",
        "else:\n",
        "  print(\"D\")"
      ],
      "metadata": {
        "id": "wN7QMuD_TvDb",
        "colab": {
          "base_uri": "https://localhost:8080/"
        },
        "outputId": "6df06b59-dea5-4389-a1a1-f4497e42cd6b"
      },
      "execution_count": null,
      "outputs": [
        {
          "output_type": "stream",
          "name": "stdout",
          "text": [
            "점수 입력 : 54\n",
            "D\n"
          ]
        }
      ]
    },
    {
      "cell_type": "markdown",
      "source": [
        "📌 for 루프와 range 함수를 이용하면 시작값, 종료값, 증감값을 지정해 범위 내에서 반복할 수 있다."
      ],
      "metadata": {
        "id": "li7EJz97dc96"
      }
    },
    {
      "cell_type": "code",
      "source": [
        "for i in range(1,10,2):\n",
        "  print(i)"
      ],
      "metadata": {
        "id": "lL5zVnYdUcHS",
        "colab": {
          "base_uri": "https://localhost:8080/"
        },
        "outputId": "a35757de-3ccc-45e8-c22b-0229bc85324d"
      },
      "execution_count": null,
      "outputs": [
        {
          "output_type": "stream",
          "name": "stdout",
          "text": [
            "1\n",
            "3\n",
            "5\n",
            "7\n",
            "9\n"
          ]
        }
      ]
    },
    {
      "cell_type": "markdown",
      "source": [
        "📌 for 루프와 range 함수를 이용하면 정해진 횟수만큼 반복할 수 있다."
      ],
      "metadata": {
        "id": "RkeJPRnweLTw"
      }
    },
    {
      "cell_type": "code",
      "source": [
        "for i in range(5):\n",
        "  print(\"hello\")"
      ],
      "metadata": {
        "id": "lRi1sjhqU5Pq",
        "colab": {
          "base_uri": "https://localhost:8080/"
        },
        "outputId": "6b3267b6-c37c-4d45-b765-d433609060bd"
      },
      "execution_count": null,
      "outputs": [
        {
          "output_type": "stream",
          "name": "stdout",
          "text": [
            "hello\n",
            "hello\n",
            "hello\n",
            "hello\n",
            "hello\n"
          ]
        }
      ]
    },
    {
      "cell_type": "markdown",
      "source": [
        "📌 while 루프를 이용하면 종료조건을 만족할 때까지 반복할 수 있다.\n",
        "> 필요에 따라 무한루프를 활용할 수 있다.<br>\n",
        "무한루프를 활용할 경우 종료를 위해 break를 함께 사용해야 한다."
      ],
      "metadata": {
        "id": "yMJZvtx_ef5S"
      }
    },
    {
      "cell_type": "code",
      "source": [
        "while 1:\n",
        "  pw = input('패스워드 입력 : ')\n",
        "  if pw == 'Pa$$w0rd':\n",
        "    break"
      ],
      "metadata": {
        "id": "P_Xxgu3TU_5O",
        "colab": {
          "base_uri": "https://localhost:8080/"
        },
        "outputId": "eb21df69-3ace-4433-bddd-072ca69a3f76"
      },
      "execution_count": null,
      "outputs": [
        {
          "name": "stdout",
          "output_type": "stream",
          "text": [
            "패스워드 입력 : ㄴㄹㅇ\n",
            "패스워드 입력 : fds\n",
            "패스워드 입력 : Pa$$Ord\n",
            "패스워드 입력 : Pa$$w0rd\n"
          ]
        }
      ]
    },
    {
      "cell_type": "markdown",
      "source": [
        "## **Python 함수**"
      ],
      "metadata": {
        "id": "f3qcw2CrHY1_"
      }
    },
    {
      "cell_type": "markdown",
      "source": [
        "📌 def 키워드로 함수를 정의할 수 있다.\n",
        "> 함수는 필요에 따라 입력으로 <u>매개변수(parameter)</u>를 받을 수 있으며 출력으로 결과값을 <u>반환(return)</u>할 수 있다.<br>\n",
        "한 번 정의된 함수는 이후 언제든 호출하여 반복적으로 사용할 수 있다."
      ],
      "metadata": {
        "id": "g2v74oH7fTi0"
      }
    },
    {
      "cell_type": "code",
      "source": [
        "# 함수의 정의\n",
        "def funct(a, b, c):\n",
        "  result = a + b - c\n",
        "  return result"
      ],
      "metadata": {
        "id": "1eVxBYQrVgK7"
      },
      "execution_count": null,
      "outputs": []
    },
    {
      "cell_type": "code",
      "source": [
        "# 함수의 호출\n",
        "val = funct(1,2,3) # a<-1, b<-2, c<-3\n",
        "print(val)"
      ],
      "metadata": {
        "id": "7xuxqcy5XCOg",
        "colab": {
          "base_uri": "https://localhost:8080/"
        },
        "outputId": "08ca9686-26d0-477c-ab78-863962122f0a"
      },
      "execution_count": null,
      "outputs": [
        {
          "output_type": "stream",
          "name": "stdout",
          "text": [
            "0\n"
          ]
        }
      ]
    },
    {
      "cell_type": "code",
      "source": [
        "# 함수의 호출 (키워드 매개변수 활용)\n",
        "val = funct(c = 1, b = 2, a = 3)\n",
        "print(val)"
      ],
      "metadata": {
        "id": "f9dprrDFWjnY",
        "colab": {
          "base_uri": "https://localhost:8080/"
        },
        "outputId": "07cae909-6314-4cef-a7bf-47faea0647c9"
      },
      "execution_count": null,
      "outputs": [
        {
          "output_type": "stream",
          "name": "stdout",
          "text": [
            "4\n"
          ]
        }
      ]
    },
    {
      "cell_type": "markdown",
      "source": [
        "📌 함수 사용시 변수의 적용 범위에 주의해야 한다."
      ],
      "metadata": {
        "id": "qUKDq1NVg6Dh"
      }
    },
    {
      "cell_type": "markdown",
      "source": [
        "> 함수 내에 선언된 지역변수(local variable)는 함수 밖에서 사용할 수 없다."
      ],
      "metadata": {
        "id": "SEf-76bEhC2t"
      }
    },
    {
      "cell_type": "code",
      "source": [
        "#에러가 나는 이유는?\n",
        "\n",
        "def funct():\n",
        "  num = input('숫자 입력 : ') # 지역변수\n",
        "\n",
        "funct()\n",
        "print(f'입력한 숫자는 {num}입니다.')"
      ],
      "metadata": {
        "id": "1l7cIVj8XSkE",
        "colab": {
          "base_uri": "https://localhost:8080/",
          "height": 202
        },
        "outputId": "83df7027-aa5b-4c0c-fe45-52b24675f059"
      },
      "execution_count": null,
      "outputs": [
        {
          "name": "stdout",
          "output_type": "stream",
          "text": [
            "숫자 입력 : 213\n"
          ]
        },
        {
          "output_type": "error",
          "ename": "NameError",
          "evalue": "name 'num' is not defined",
          "traceback": [
            "\u001b[0;31m---------------------------------------------------------------------------\u001b[0m",
            "\u001b[0;31mNameError\u001b[0m                                 Traceback (most recent call last)",
            "\u001b[0;32m<ipython-input-50-cb7318e24578>\u001b[0m in \u001b[0;36m<cell line: 7>\u001b[0;34m()\u001b[0m\n\u001b[1;32m      5\u001b[0m \u001b[0;34m\u001b[0m\u001b[0m\n\u001b[1;32m      6\u001b[0m \u001b[0mfunct\u001b[0m\u001b[0;34m(\u001b[0m\u001b[0;34m)\u001b[0m\u001b[0;34m\u001b[0m\u001b[0;34m\u001b[0m\u001b[0m\n\u001b[0;32m----> 7\u001b[0;31m \u001b[0mprint\u001b[0m\u001b[0;34m(\u001b[0m\u001b[0;34mf'입력한 숫자는 {num}입니다.'\u001b[0m\u001b[0;34m)\u001b[0m\u001b[0;34m\u001b[0m\u001b[0;34m\u001b[0m\u001b[0m\n\u001b[0m",
            "\u001b[0;31mNameError\u001b[0m: name 'num' is not defined"
          ]
        }
      ]
    },
    {
      "cell_type": "code",
      "source": [
        "def funct():\n",
        "  num = input('숫자 입력 : ')\n",
        "  return num\n",
        "\n",
        "num = funct()\n",
        "print(f'입력한 숫자는 {num}입니다.')"
      ],
      "metadata": {
        "id": "LszONLeEYODJ",
        "colab": {
          "base_uri": "https://localhost:8080/"
        },
        "outputId": "e37de39f-b709-42c0-e829-93844fb67675"
      },
      "execution_count": null,
      "outputs": [
        {
          "output_type": "stream",
          "name": "stdout",
          "text": [
            "숫자 입력 : 132\n",
            "입력한 숫자는 132입니다.\n"
          ]
        }
      ]
    },
    {
      "cell_type": "markdown",
      "source": [
        "> 전역변수(global variable)는 함수 내에서 사용할 수 있지만, 함수 내에서 전역변수의 값을 수정하려면 반드시 global 키워드를 이용해야 한다."
      ],
      "metadata": {
        "id": "mkojxYBAhLxd"
      }
    },
    {
      "cell_type": "code",
      "source": [
        "#어떻게 수정해야할까?\n",
        "\n",
        "def funct():\n",
        "  global num\n",
        "  num += 5\n",
        "  return num\n",
        "\n",
        "num = 100\n",
        "res = funct()\n",
        "print(res)"
      ],
      "metadata": {
        "id": "FkITKfluYqUH",
        "colab": {
          "base_uri": "https://localhost:8080/"
        },
        "outputId": "05945bb5-e4f1-4b5f-c735-904b5bdd5450"
      },
      "execution_count": null,
      "outputs": [
        {
          "output_type": "stream",
          "name": "stdout",
          "text": [
            "105\n"
          ]
        }
      ]
    },
    {
      "cell_type": "markdown",
      "source": [
        "## **Python 라이브러리 활용**"
      ],
      "metadata": {
        "id": "U7d7KY81Hkr8"
      }
    },
    {
      "cell_type": "markdown",
      "source": [
        "📌 import를 이용해 다양한 외부 모듈을 가져와 사용할 수 있다.\n",
        "> 모듈 안에 있는 무언가(변수, 객체, 함수 등)에 접근하려면 점(.)을 이용한다. <br>모듈(.py) < 패키지 < 라이브러리"
      ],
      "metadata": {
        "id": "X0ryzD1ehxiM"
      }
    },
    {
      "cell_type": "code",
      "source": [
        "import random # 빌트인 모듈인 random.py를 임포트\n",
        "random.randint(1, 10) # 랜덤 모듈의 randint() 메서드 호출"
      ],
      "metadata": {
        "id": "5BA9CIUHZsUW",
        "colab": {
          "base_uri": "https://localhost:8080/"
        },
        "outputId": "3071206b-dbb6-473b-dd09-2b4cde2ab796"
      },
      "execution_count": null,
      "outputs": [
        {
          "output_type": "execute_result",
          "data": {
            "text/plain": [
              "1"
            ]
          },
          "metadata": {},
          "execution_count": 57
        }
      ]
    },
    {
      "cell_type": "code",
      "source": [
        "import matplotlib.pyplot as plt # 맷플롯립 라이브러리 내 서브 패키지인 파이플롯을 plt라는 별칭으로 임포트\n",
        "plt.plot([1, 2, 3], [2, 4, 6], marker='o', linestyle=':') # 파이플롯 패키지의 plot() 함수 호출\n",
        "plt.show()"
      ],
      "metadata": {
        "id": "_3XadIWtaGaE",
        "colab": {
          "base_uri": "https://localhost:8080/",
          "height": 430
        },
        "outputId": "0fc3ee9c-2f67-4795-c296-6bdef2cb0e8b"
      },
      "execution_count": null,
      "outputs": [
        {
          "output_type": "display_data",
          "data": {
            "text/plain": [
              "<Figure size 640x480 with 1 Axes>"
            ],
            "image/png": "[encoded data removed]"
          },
          "metadata": {}
        }
      ]
    },
    {
      "cell_type": "markdown",
      "source": [
        "## **Python 자료구조**"
      ],
      "metadata": {
        "id": "Mok9cUfjB_sD"
      }
    },
    {
      "cell_type": "markdown",
      "source": [
        "#### **▶ 리스트(List)**\n"
      ],
      "metadata": {
        "id": "psAPoLfHF_g6"
      }
    },
    {
      "cell_type": "code",
      "source": [
        "colors = ['빨강', '초록', '파랑']\n",
        "colors"
      ],
      "metadata": {
        "colab": {
          "base_uri": "https://localhost:8080/"
        },
        "id": "NP0LKeTwCLy3",
        "outputId": "639eac0a-7b35-440f-a860-aee87337a356"
      },
      "execution_count": null,
      "outputs": [
        {
          "output_type": "execute_result",
          "data": {
            "text/plain": [
              "['빨강', '초록', '파랑']"
            ]
          },
          "metadata": {},
          "execution_count": 60
        }
      ]
    },
    {
      "cell_type": "markdown",
      "source": [
        "##### **리스트와 인덱스**"
      ],
      "metadata": {
        "id": "f_K3aHohG54b"
      }
    },
    {
      "cell_type": "markdown",
      "source": [
        "📌 인덱스를 이용해 리스트 개별 요소에 접근할 수 있다."
      ],
      "metadata": {
        "id": "z6WUOITcl8cv"
      }
    },
    {
      "cell_type": "code",
      "source": [
        "# 인덱스로 요소 읽어오기\n",
        "colors[0]"
      ],
      "metadata": {
        "colab": {
          "base_uri": "https://localhost:8080/",
          "height": 35
        },
        "id": "CpKaCVXOEysl",
        "outputId": "5bc6e98d-2f14-48f1-af81-16e201ac154b"
      },
      "execution_count": null,
      "outputs": [
        {
          "output_type": "execute_result",
          "data": {
            "text/plain": [
              "'빨강'"
            ],
            "application/vnd.google.colaboratory.intrinsic+json": {
              "type": "string"
            }
          },
          "metadata": {},
          "execution_count": 63
        }
      ]
    },
    {
      "cell_type": "code",
      "source": [
        "# 음수 인덱스로 요소 읽어오기\n",
        "colors[-2]"
      ],
      "metadata": {
        "colab": {
          "base_uri": "https://localhost:8080/",
          "height": 35
        },
        "id": "Y8Lv02y0E0vX",
        "outputId": "67b94f62-c3ae-4079-8615-55adb5dc8acd"
      },
      "execution_count": null,
      "outputs": [
        {
          "output_type": "execute_result",
          "data": {
            "text/plain": [
              "'초록'"
            ],
            "application/vnd.google.colaboratory.intrinsic+json": {
              "type": "string"
            }
          },
          "metadata": {},
          "execution_count": 65
        }
      ]
    },
    {
      "cell_type": "code",
      "source": [
        "# 인덱스 슬라이싱으로 리스트의 일부 읽어오기\n",
        "colors[0:2]"
      ],
      "metadata": {
        "colab": {
          "base_uri": "https://localhost:8080/"
        },
        "id": "s7Sxo6W-E2yf",
        "outputId": "e99374b6-75bc-4f5f-f89b-6349368f5bf7"
      },
      "execution_count": null,
      "outputs": [
        {
          "output_type": "execute_result",
          "data": {
            "text/plain": [
              "['빨강', '초록']"
            ]
          },
          "metadata": {},
          "execution_count": 68
        }
      ]
    },
    {
      "cell_type": "code",
      "source": [
        "# 인덱스로 요소에 새로운 값 덮어쓰기\n",
        "colors.insert(0,'red')\n",
        "colors"
      ],
      "metadata": {
        "colab": {
          "base_uri": "https://localhost:8080/"
        },
        "id": "B4cQud2VKFCq",
        "outputId": "72924453-445e-43e9-8792-9f5eb8fd5a69"
      },
      "execution_count": null,
      "outputs": [
        {
          "output_type": "execute_result",
          "data": {
            "text/plain": [
              "['red', '빨강', '초록', '파랑']"
            ]
          },
          "metadata": {},
          "execution_count": 80
        }
      ]
    },
    {
      "cell_type": "markdown",
      "source": [
        "##### **리스트와 반복문**"
      ],
      "metadata": {
        "id": "ypoMb6P6HC1H"
      }
    },
    {
      "cell_type": "markdown",
      "source": [
        "📌 for 루프에서 인덱스를 증가시키며 리스트의 모든 요소에 접근할 수 있다."
      ],
      "metadata": {
        "id": "RQ-RDfJnnHwP"
      }
    },
    {
      "cell_type": "code",
      "source": [
        "# 인덱스 이용\n",
        "for i in range(4): # 리스트의 길이(요수 개수), 0, 1, 2, ..., 요소 개수-1\n",
        "  print(colors[i])"
      ],
      "metadata": {
        "id": "gdLjgw-mJ1m5",
        "colab": {
          "base_uri": "https://localhost:8080/"
        },
        "outputId": "a9c4080f-b33e-41c3-a83a-f7cdc75baa55"
      },
      "execution_count": null,
      "outputs": [
        {
          "output_type": "stream",
          "name": "stdout",
          "text": [
            "red\n",
            "빨강\n",
            "초록\n",
            "파랑\n"
          ]
        }
      ]
    },
    {
      "cell_type": "markdown",
      "source": [
        "📌 for 루프를 이용해 리스트의 모든 요소에 순차적으로 접근할 수 있다."
      ],
      "metadata": {
        "id": "wt3z4U9xmoDv"
      }
    },
    {
      "cell_type": "code",
      "source": [
        "# 더 편리한 방법\n",
        "for c in colors:\n",
        "  print(c)"
      ],
      "metadata": {
        "id": "6HEjMeRIE_Gb",
        "colab": {
          "base_uri": "https://localhost:8080/"
        },
        "outputId": "69f1a0a5-a0d2-44ca-d5c5-556a658b0452"
      },
      "execution_count": null,
      "outputs": [
        {
          "output_type": "stream",
          "name": "stdout",
          "text": [
            "red\n",
            "빨강\n",
            "초록\n",
            "파랑\n"
          ]
        }
      ]
    },
    {
      "cell_type": "markdown",
      "source": [
        "##### **리스트 메서드 append()**\n",
        "\n"
      ],
      "metadata": {
        "id": "mZyskze3HMSe"
      }
    },
    {
      "cell_type": "code",
      "source": [
        "colors.append(\"노랑\")\n",
        "colors"
      ],
      "metadata": {
        "id": "VLxMSKjCHLgl",
        "colab": {
          "base_uri": "https://localhost:8080/"
        },
        "outputId": "45a19f18-1ae2-4a0e-910a-ae44194f6b22"
      },
      "execution_count": null,
      "outputs": [
        {
          "output_type": "execute_result",
          "data": {
            "text/plain": [
              "['red', '빨강', '초록', '노랑']"
            ]
          },
          "metadata": {},
          "execution_count": 101
        }
      ]
    },
    {
      "cell_type": "markdown",
      "source": [
        "##### **리스트 메서드 pop()**\n",
        "\n"
      ],
      "metadata": {
        "id": "mHfpliUxJCOr"
      }
    },
    {
      "cell_type": "code",
      "source": [
        "#파랑을 꺼내서 color변수에 담음.\n",
        "colors.pop(3)\n",
        "color"
      ],
      "metadata": {
        "id": "r10q7Y0zIWL_",
        "colab": {
          "base_uri": "https://localhost:8080/",
          "height": 35
        },
        "outputId": "f6843d2f-ea51-4090-9acb-07b3b14a9f9e"
      },
      "execution_count": null,
      "outputs": [
        {
          "output_type": "execute_result",
          "data": {
            "text/plain": [
              "'파랑'"
            ],
            "application/vnd.google.colaboratory.intrinsic+json": {
              "type": "string"
            }
          },
          "metadata": {},
          "execution_count": 102
        }
      ]
    },
    {
      "cell_type": "code",
      "source": [
        "colors"
      ],
      "metadata": {
        "id": "PMSBF71qIfu0",
        "colab": {
          "base_uri": "https://localhost:8080/"
        },
        "outputId": "b0681c85-35b8-45f0-c206-121d86f29b03"
      },
      "execution_count": null,
      "outputs": [
        {
          "output_type": "execute_result",
          "data": {
            "text/plain": [
              "['red', '빨강', '초록']"
            ]
          },
          "metadata": {},
          "execution_count": 103
        }
      ]
    },
    {
      "cell_type": "code",
      "source": [
        "color"
      ],
      "metadata": {
        "id": "n2o8qhVxIc8P",
        "colab": {
          "base_uri": "https://localhost:8080/",
          "height": 35
        },
        "outputId": "dd1f045f-c805-495c-cb1c-35e9fe78fb03"
      },
      "execution_count": null,
      "outputs": [
        {
          "output_type": "execute_result",
          "data": {
            "text/plain": [
              "'파랑'"
            ],
            "application/vnd.google.colaboratory.intrinsic+json": {
              "type": "string"
            }
          },
          "metadata": {},
          "execution_count": 104
        }
      ]
    },
    {
      "cell_type": "markdown",
      "source": [
        "#### **▶ 튜플(Tuple)**\n"
      ],
      "metadata": {
        "id": "4xci98-6GgLB"
      }
    },
    {
      "cell_type": "code",
      "source": [
        "colors = ('빨강', '초록', '파랑') # 괄호 생략 가능\n",
        "colors"
      ],
      "metadata": {
        "id": "kyI62cSSEONU",
        "colab": {
          "base_uri": "https://localhost:8080/"
        },
        "outputId": "8cf473c9-2142-4207-8f5d-22d639bb8d98"
      },
      "execution_count": null,
      "outputs": [
        {
          "output_type": "execute_result",
          "data": {
            "text/plain": [
              "('빨강', '초록', '파랑')"
            ]
          },
          "metadata": {},
          "execution_count": 109
        }
      ]
    },
    {
      "cell_type": "markdown",
      "source": [
        "##### **튜플과 리스트**"
      ],
      "metadata": {
        "id": "KmjJSi-fKuOx"
      }
    },
    {
      "cell_type": "markdown",
      "source": [
        "📌 튜플은 값을 변경할 수 없는 리스트이다."
      ],
      "metadata": {
        "id": "K_Dkd1FtAr0K"
      }
    },
    {
      "cell_type": "code",
      "source": [
        "colors[0]"
      ],
      "metadata": {
        "id": "b5bgj4E7K5PT",
        "colab": {
          "base_uri": "https://localhost:8080/",
          "height": 35
        },
        "outputId": "6b8e408a-f3b0-4b2a-a9ab-97ac1c2f1db9"
      },
      "execution_count": null,
      "outputs": [
        {
          "output_type": "execute_result",
          "data": {
            "text/plain": [
              "'빨강'"
            ],
            "application/vnd.google.colaboratory.intrinsic+json": {
              "type": "string"
            }
          },
          "metadata": {},
          "execution_count": 110
        }
      ]
    },
    {
      "cell_type": "code",
      "source": [
        "colors[-1]"
      ],
      "metadata": {
        "id": "onOrWkb9K9vm",
        "colab": {
          "base_uri": "https://localhost:8080/",
          "height": 35
        },
        "outputId": "06c15aea-a0df-4696-f692-20e978f3f3fd"
      },
      "execution_count": null,
      "outputs": [
        {
          "output_type": "execute_result",
          "data": {
            "text/plain": [
              "'파랑'"
            ],
            "application/vnd.google.colaboratory.intrinsic+json": {
              "type": "string"
            }
          },
          "metadata": {},
          "execution_count": 111
        }
      ]
    },
    {
      "cell_type": "code",
      "source": [
        "colors[0:2]"
      ],
      "metadata": {
        "id": "TpIbrrT7K621",
        "colab": {
          "base_uri": "https://localhost:8080/"
        },
        "outputId": "70715501-6b6a-4063-8e56-d6f25e92dac5"
      },
      "execution_count": null,
      "outputs": [
        {
          "output_type": "execute_result",
          "data": {
            "text/plain": [
              "('빨강', '초록')"
            ]
          },
          "metadata": {},
          "execution_count": 112
        }
      ]
    },
    {
      "cell_type": "code",
      "source": [
        "#에러가 나는 이유는?\n",
        "colors[0] = 'red'"
      ],
      "metadata": {
        "id": "esgqdbbhKyLO",
        "colab": {
          "base_uri": "https://localhost:8080/",
          "height": 166
        },
        "outputId": "4e431c8a-a693-4270-9923-b12be38a66d5"
      },
      "execution_count": null,
      "outputs": [
        {
          "output_type": "error",
          "ename": "TypeError",
          "evalue": "'tuple' object does not support item assignment",
          "traceback": [
            "\u001b[0;31m---------------------------------------------------------------------------\u001b[0m",
            "\u001b[0;31mTypeError\u001b[0m                                 Traceback (most recent call last)",
            "\u001b[0;32m<ipython-input-113-b7a2a2bb62a1>\u001b[0m in \u001b[0;36m<cell line: 2>\u001b[0;34m()\u001b[0m\n\u001b[1;32m      1\u001b[0m \u001b[0;31m#에러가 나는 이유는?\u001b[0m\u001b[0;34m\u001b[0m\u001b[0;34m\u001b[0m\u001b[0m\n\u001b[0;32m----> 2\u001b[0;31m \u001b[0mcolors\u001b[0m\u001b[0;34m[\u001b[0m\u001b[0;36m0\u001b[0m\u001b[0;34m]\u001b[0m \u001b[0;34m=\u001b[0m \u001b[0;34m'red'\u001b[0m\u001b[0;34m\u001b[0m\u001b[0;34m\u001b[0m\u001b[0m\n\u001b[0m",
            "\u001b[0;31mTypeError\u001b[0m: 'tuple' object does not support item assignment"
          ]
        }
      ]
    },
    {
      "cell_type": "markdown",
      "source": [
        "📌 list(), tuple() 함수를 이용해 튜플을 리스트로, 리스트를 튜플로 변환할 수 있다."
      ],
      "metadata": {
        "id": "hOBdhmUKA1se"
      }
    },
    {
      "cell_type": "code",
      "source": [
        "li = list(colors)\n",
        "li"
      ],
      "metadata": {
        "id": "k2Dl8Rg4Lj0K",
        "colab": {
          "base_uri": "https://localhost:8080/"
        },
        "outputId": "8c477464-c4b5-4cff-b69e-9e9b47a9985e"
      },
      "execution_count": null,
      "outputs": [
        {
          "output_type": "execute_result",
          "data": {
            "text/plain": [
              "['빨강', '초록', '파랑']"
            ]
          },
          "metadata": {},
          "execution_count": 118
        }
      ]
    },
    {
      "cell_type": "code",
      "source": [
        "tu = tuple(li)\n",
        "tu"
      ],
      "metadata": {
        "id": "BmMSMlEpLprC",
        "colab": {
          "base_uri": "https://localhost:8080/"
        },
        "outputId": "14dd78b6-e98e-4980-8971-4b0095b90ae2"
      },
      "execution_count": null,
      "outputs": [
        {
          "output_type": "execute_result",
          "data": {
            "text/plain": [
              "('빨강', '초록', '파랑')"
            ]
          },
          "metadata": {},
          "execution_count": 119
        }
      ]
    },
    {
      "cell_type": "markdown",
      "source": [
        "##### **튜플의 활용**"
      ],
      "metadata": {
        "id": "xbYLAnYxLRhJ"
      }
    },
    {
      "cell_type": "markdown",
      "source": [
        "📌 튜플을 이용해 여러 변수에 한꺼번에 값을 대입할 수 있다."
      ],
      "metadata": {
        "id": "RtZhDLZTBBcJ"
      }
    },
    {
      "cell_type": "code",
      "source": [
        "r, g, b = colors"
      ],
      "metadata": {
        "id": "y1tsqnPTLaOc"
      },
      "execution_count": null,
      "outputs": []
    },
    {
      "cell_type": "code",
      "source": [
        "def arithmetic(a, b):\n",
        "  add = a + b\n",
        "  sub = a - b\n",
        "  mul = a * b\n",
        "  return add,sub,mul\n",
        "\n",
        "a, b, c = arithmetic(5, 7)\n",
        "print(f\"두 수의 합은 {a}, 차는 {b}, 곱은 {c}이다.\")"
      ],
      "metadata": {
        "colab": {
          "base_uri": "https://localhost:8080/"
        },
        "id": "lepdKI9GLF08",
        "outputId": "fc6385ec-e784-4951-cdcc-b209461ef5f8"
      },
      "execution_count": null,
      "outputs": [
        {
          "output_type": "stream",
          "name": "stdout",
          "text": [
            "두 수의 합은 12, 차는 -2, 곱은 35이다.\n"
          ]
        }
      ]
    },
    {
      "cell_type": "markdown",
      "source": [
        "#### **▶ 딕셔너리(Dictionary)**\n"
      ],
      "metadata": {
        "id": "odH9i_2AGrAt"
      }
    },
    {
      "cell_type": "markdown",
      "source": [
        "📌 딕셔너리는 키(key)와 값(value)의 쌍을 요소로 가진다."
      ],
      "metadata": {
        "id": "5xC4CWgRBvpI"
      }
    },
    {
      "cell_type": "code",
      "source": [
        "colors = {'r':'빨강', 'g':'초록', 'b':'파랑'}\n",
        "colors"
      ],
      "metadata": {
        "id": "XP8Ra0nZEpPY",
        "colab": {
          "base_uri": "https://localhost:8080/"
        },
        "outputId": "cc54d1df-c5a1-4a65-c373-358936a265da"
      },
      "execution_count": null,
      "outputs": [
        {
          "output_type": "execute_result",
          "data": {
            "text/plain": [
              "{'r': '빨강', 'g': '초록', 'b': '파랑'}"
            ]
          },
          "metadata": {},
          "execution_count": 125
        }
      ]
    },
    {
      "cell_type": "markdown",
      "source": [
        "📌 값(value)은 중복된 값을 가질 수 있지만, 키(key)는 중복된 값을 가질 수 없다."
      ],
      "metadata": {
        "id": "vWEoh0BGB6et"
      }
    },
    {
      "cell_type": "code",
      "source": [
        "words = {'yummy':'맛있다', 'delicious':'맛있다'}\n",
        "words"
      ],
      "metadata": {
        "id": "5eJdQXt2Qi4U",
        "colab": {
          "base_uri": "https://localhost:8080/"
        },
        "outputId": "009f3c66-8ffd-43e8-9bd1-9e35dc935fda"
      },
      "execution_count": null,
      "outputs": [
        {
          "output_type": "execute_result",
          "data": {
            "text/plain": [
              "{'yummy': '맛있다', 'delicious': '맛있다'}"
            ]
          },
          "metadata": {},
          "execution_count": 126
        }
      ]
    },
    {
      "cell_type": "code",
      "source": [
        "seasons = {'s':'봄', 's':'여름', 'f':'가을', 'w':'겨울'}\n",
        "seasons"
      ],
      "metadata": {
        "id": "G3PiFuU3QOJH",
        "colab": {
          "base_uri": "https://localhost:8080/"
        },
        "outputId": "5f7fe516-d3ac-42c5-d15f-e8747ea8c734"
      },
      "execution_count": null,
      "outputs": [
        {
          "output_type": "execute_result",
          "data": {
            "text/plain": [
              "{'s': '여름', 'f': '가을', 'w': '겨울'}"
            ]
          },
          "metadata": {},
          "execution_count": 127
        }
      ]
    },
    {
      "cell_type": "markdown",
      "source": [
        "##### **딕셔너리의 키(key)와 값(value)**"
      ],
      "metadata": {
        "id": "vEctL42fRe8f"
      }
    },
    {
      "cell_type": "markdown",
      "source": [
        "📌 키(key)를 이용해 값을 읽어올 수 있다."
      ],
      "metadata": {
        "id": "-FKheWtfCPSS"
      }
    },
    {
      "cell_type": "code",
      "source": [
        "colors['r']"
      ],
      "metadata": {
        "colab": {
          "base_uri": "https://localhost:8080/",
          "height": 35
        },
        "outputId": "b52173e7-a9f3-45f3-aa6c-ec0774291ae9",
        "id": "Jf7jHzNdRe8g"
      },
      "execution_count": null,
      "outputs": [
        {
          "output_type": "execute_result",
          "data": {
            "text/plain": [
              "'빨강'"
            ],
            "application/vnd.google.colaboratory.intrinsic+json": {
              "type": "string"
            }
          },
          "metadata": {},
          "execution_count": 131
        }
      ]
    },
    {
      "cell_type": "code",
      "source": [
        "\n",
        "colors"
      ],
      "metadata": {
        "colab": {
          "base_uri": "https://localhost:8080/"
        },
        "outputId": "e6eacbf3-b48d-48c7-8e5f-6d13278f6d92",
        "id": "aOJk473MRe8h"
      },
      "execution_count": null,
      "outputs": [
        {
          "output_type": "execute_result",
          "data": {
            "text/plain": [
              "{'r': '빨강', 'g': '초록', 'b': '파랑'}"
            ]
          },
          "metadata": {},
          "execution_count": 132
        }
      ]
    },
    {
      "cell_type": "code",
      "source": [
        "# 딕셔너리 항목 추가\n",
        "colors['y']='노랑'\n",
        "colors"
      ],
      "metadata": {
        "colab": {
          "base_uri": "https://localhost:8080/"
        },
        "outputId": "144a0054-e33c-468a-e2b4-eb0bfce5c7fb",
        "id": "6XSfv7wrRe8h"
      },
      "execution_count": null,
      "outputs": [
        {
          "output_type": "execute_result",
          "data": {
            "text/plain": [
              "{'r': '빨강', 'g': '초록', 'b': '파랑', 'y': '노랑'}"
            ]
          },
          "metadata": {},
          "execution_count": 134
        }
      ]
    },
    {
      "cell_type": "code",
      "source": [
        "# 딕셔너리 항목 삭제\n",
        "del colors['y']\n",
        "colors"
      ],
      "metadata": {
        "colab": {
          "base_uri": "https://localhost:8080/"
        },
        "outputId": "14b53e76-285d-48b6-a151-1e315dea897c",
        "id": "0ef6I0BRRe8i"
      },
      "execution_count": null,
      "outputs": [
        {
          "output_type": "execute_result",
          "data": {
            "text/plain": [
              "{'r': '빨강', 'g': '초록', 'b': '파랑'}"
            ]
          },
          "metadata": {},
          "execution_count": 136
        }
      ]
    },
    {
      "cell_type": "markdown",
      "source": [
        "##### **딕셔너리와 반복문**"
      ],
      "metadata": {
        "id": "QpcCjmx3CjLH"
      }
    },
    {
      "cell_type": "code",
      "source": [
        "for i in colors:\n",
        "  print(i)"
      ],
      "metadata": {
        "id": "l8euGOJWEtJT",
        "colab": {
          "base_uri": "https://localhost:8080/"
        },
        "outputId": "49ecafb1-5046-4870-de1b-696176e5ca9c"
      },
      "execution_count": null,
      "outputs": [
        {
          "output_type": "stream",
          "name": "stdout",
          "text": [
            "r\n",
            "g\n",
            "b\n"
          ]
        }
      ]
    },
    {
      "cell_type": "code",
      "source": [
        "for i in colors.items():\n",
        "  print(i)"
      ],
      "metadata": {
        "colab": {
          "base_uri": "https://localhost:8080/"
        },
        "id": "9WJKsq9jShmr",
        "outputId": "55d0db02-ed07-458d-f8e4-ff7e48dd1358"
      },
      "execution_count": null,
      "outputs": [
        {
          "output_type": "stream",
          "name": "stdout",
          "text": [
            "('r', '빨강')\n",
            "('g', '초록')\n",
            "('b', '파랑')\n"
          ]
        }
      ]
    },
    {
      "cell_type": "code",
      "source": [
        "for key in colors:\n",
        "  print(key)"
      ],
      "metadata": {
        "colab": {
          "base_uri": "https://localhost:8080/"
        },
        "id": "Kfa47oqMSuWH",
        "outputId": "6f06d165-9c74-4bf9-aa32-70368817a26d"
      },
      "execution_count": null,
      "outputs": [
        {
          "output_type": "stream",
          "name": "stdout",
          "text": [
            "r\n",
            "g\n",
            "b\n"
          ]
        }
      ]
    },
    {
      "cell_type": "code",
      "source": [
        "for value in colors.values():\n",
        "    print(value)"
      ],
      "metadata": {
        "colab": {
          "base_uri": "https://localhost:8080/"
        },
        "id": "K3O46Ta3TVp7",
        "outputId": "51ea5f0b-4715-48d9-a895-9ddee38b3ffb"
      },
      "execution_count": null,
      "outputs": [
        {
          "output_type": "stream",
          "name": "stdout",
          "text": [
            "빨강\n",
            "초록\n",
            "파랑\n"
          ]
        }
      ]
    }
  ]
}